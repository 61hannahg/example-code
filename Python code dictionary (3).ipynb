{
 "cells": [
  {
   "cell_type": "markdown",
   "metadata": {},
   "source": [
    " <b>contents</b> <a id='contents'></a>\n",
    " \n",
    " [Find duplicate values in a dataset for a variable in Python](#Duplicate_values_in_a_dataset_for_a_variable_in_Python)<br>\n",
    " [Lambda function](#Lambda_function)<br>\n",
    " [List comprehension](#List_comprehension)<br>\n",
    " [Tuple Unpacking](#Tuple_Unpacking)<br> \n",
    " [Python_Dictionary](#Dictionary)<br> \n",
    " [Python_Division](#Python_Division)<br>\n",
    "[Array](#Array)<br>\n",
    "[Zip and Enumerate Function](#zip_enumerate)<br>\n",
    "[Negative indexing](#negative_indexing)<br>\n",
    "[Map Reduce Filter Functions](#map_reduce_filter)<br>\n",
    "[Range](#Range)<br>\n",
    "[String Manipulation](#string_manipulation)<br>\n",
    "\n",
    "[Joining and Linking Tables](#joining_linking)<br>\n",
    "[categorising into bins](#categorising_bins)<br><br>\n",
    "\n",
    "\n",
    "[Data Science Python Questions](#Data_Science_Python_Questions)<br>\n",
    "[agg groupby maths joins](#groupby_maths_joins)<br>\n",
    "\n",
    "\n",
    "\n",
    "[Graphs](#Graphs)<br>\n"
   ]
  },
  {
   "cell_type": "code",
   "execution_count": null,
   "metadata": {},
   "outputs": [],
   "source": []
  },
  {
   "cell_type": "code",
   "execution_count": null,
   "metadata": {},
   "outputs": [],
   "source": []
  },
  {
   "cell_type": "markdown",
   "metadata": {},
   "source": [
    "[contents](#contents)<br>\n",
    "<a id='Duplicate_values_in_a_dataset_for_a_variable_in_Python'></a>\n",
    "<b>Find duplicate values in a dataset for a variable in Python</b> <br>\n",
    "You can check for duplicates using the Pandas duplicated() method. This will return a boolean series which is TRUE only for unique elements.<br>\n",
    "In this example, keep determines what to do with duplicates. You can use\n",
    "\n",
    "First - Considers the first value unique and the rest as duplicates.\n",
    "Last - Considers the last value unique and the rest as duplicates.\n",
    "False - Considers all same values as duplicates.\n",
    "    \n",
    "    "
   ]
  },
  {
   "cell_type": "code",
   "execution_count": null,
   "metadata": {},
   "outputs": [],
   "source": [
    "DataFrame.duplicated(subset=None,keep='last')"
   ]
  },
  {
   "cell_type": "markdown",
   "metadata": {},
   "source": [
    "[contents](#contents)<br>\n",
    "<b> Lambda Function </b><a id='Lambda_function'></a>\n",
    "    Sometimes called an “anonymous function,” the lambda function is just like a normal function but is not defined with the keyword. They are defined with the keyword. Lambda functions are restricted to a single line expression, and can take in multiple parameters, just like normal functions.\n",
    "\n",
    "Here is an example of both normal and lambda functions for the argument (x) and the expression (x+x)"
   ]
  },
  {
   "cell_type": "code",
   "execution_count": 6,
   "metadata": {},
   "outputs": [
    {
     "name": "stdout",
     "output_type": "stream",
     "text": [
      "4\n",
      "4\n",
      "15\n",
      "15\n"
     ]
    }
   ],
   "source": [
    "# Normal function\n",
    "def function_name(x):\n",
    "    return x+x\n",
    "print(function_name(2)) # 4\n",
    "\n",
    "# Lambda function\n",
    "plus = lambda x: x+x\n",
    "print(plus(2)) # 4\n",
    "\n",
    "# Normal function\n",
    "def i_plus_j(i,j):\n",
    "    return i+j\n",
    "print(i_plus_j(7,8)) # 5\n",
    "\n",
    "# Lambda function\n",
    "x = lambda i,j: i+j \n",
    "print (x(7,8)) # 15\n"
   ]
  },
  {
   "cell_type": "markdown",
   "metadata": {},
   "source": [
    "[contents](#contents)<br>\n",
    "<b> List comprehension </b><a id='List_comprehension'></a><br>\n",
    "List comprehension is used to define and create a list based on an existing list. For example, if we wanted to separate all the letters in the word “retain,” and make each letter a list item, we could use list comprehension:<br>\n",
    "Every list comprehension in Python includes three elements:\n",
    "\n",
    "expression is the member itself, a call to a method, or any other valid expression that returns a value. In the example above, the expression i * i is the square of the member value.\n",
    "member is the object or value in the list or iterable. In the example above, the member value is i.\n",
    "iterable is a list, set, sequence, generator, or any other object that can return its elements one at a time. In the example above, the iterable is range(10)."
   ]
  },
  {
   "cell_type": "code",
   "execution_count": 12,
   "metadata": {},
   "outputs": [
    {
     "name": "stdout",
     "output_type": "stream",
     "text": [
      "['r', 'e', 't', 'a', 'i', 'n']\n",
      "[0, 1, 4, 9, 16, 25, 36, 49, 64, 81]\n",
      "['e', 'o', 'e', 'a', 'e', 'a', 'o', 'a']\n",
      "[0, 4, 16, 36, 64]\n",
      "[4, 16, 36, 64]\n"
     ]
    }
   ],
   "source": [
    "r_letters = [ letter for letter in 'retain' ]\n",
    "print( r_letters)\n",
    "# Output:['r', 'e', 't', 'a', 'i', 'n']\n",
    "\n",
    "squares = [i * i for i in range(10)]\n",
    "print(squares)\n",
    "#Output: [0, 1, 4, 9, 16, 25, 36, 49, 64, 81]\n",
    "\n",
    "# With conditions:\n",
    "sentence = 'the rocket came back from mars'\n",
    "vowels = [i for i in sentence if i in 'aeiou']\n",
    "print(vowels)\n",
    "#Output ['e', 'o', 'e', 'a', 'e', 'a', 'o', 'a']\n",
    "\n",
    "even_nos = [i for i in squares if (i % 2) == 0]\n",
    "print(even_nos)\n",
    "\n",
    "# With function\n",
    "def evens(x):\n",
    "    if (x % 2) == 0:\n",
    "        return x\n",
    "\n",
    "check_even = [i for i in squares if evens(i)]\n",
    "print(check_even)"
   ]
  },
  {
   "cell_type": "markdown",
   "metadata": {},
   "source": [
    "[contents](#contents)<br>\n",
    "<b> Tuple Unpacking </b><a id='Tuple_Unpacking'></a><br>\n",
    "Unpacking refers to the practice of assigning elements of a tuple to multiple variables. You use the * operator to assign elements of an unpacking assignment to assign it a value.\n",
    "\n",
    "With unpacking, you can swap variables without using a temporary variable. For example:\n",
    "NOTE : In unpacking of tuple number of variables on left-hand side should be equal to number of values in given tuple a."
   ]
  },
  {
   "cell_type": "code",
   "execution_count": 2,
   "metadata": {},
   "outputs": [
    {
     "name": "stdout",
     "output_type": "stream",
     "text": [
      "x=Goode, y=Hannah\n",
      "x=Hannah, y=Goode\n",
      "Hannah Goode\n"
     ]
    }
   ],
   "source": [
    "x = ('Goode')\n",
    "y = ('Hannah')\n",
    "print(f'x={x}, y={y}') # Goode Hannah\n",
    "\n",
    "x, y = y, x\n",
    "print(f'x={x}, y={y}') # Hannah Goode\n",
    "\n",
    "a = ('Goode', 'Hannah')\n",
    "surname, forname = a \n",
    "print(forname, surname)"
   ]
  },
  {
   "cell_type": "markdown",
   "metadata": {},
   "source": [
    "[contents](#contents)<br>\n",
    "<b> Looping in a python dictionary </b><a id='Dictionary'></a><br>"
   ]
  },
  {
   "cell_type": "code",
   "execution_count": 1,
   "metadata": {},
   "outputs": [
    {
     "name": "stdout",
     "output_type": "stream",
     "text": [
      "one Relates to Ram\n",
      "two Relates to Shyam\n",
      "three Relates to 10\n",
      "fore Relates to Bilal\n",
      "five Relates to 13.2\n",
      "six Relates to Feroz\n"
     ]
    }
   ],
   "source": [
    "myDict = {\n",
    "    \"one\": \"Ram\",\n",
    "    \"two\": \"Shyam\",\n",
    "    \"three\": 10,\n",
    "    \"fore\": \"Bilal\",\n",
    "    \"five\": 13.2,\n",
    "    \"six\": \"Feroz\"\n",
    "};\n",
    "for key, value in myDict.items():\n",
    "    print(key, 'Relates to', value)"
   ]
  },
  {
   "cell_type": "markdown",
   "metadata": {},
   "source": [
    "[contents](#contents)<br>\n",
    "<b> Python Division </b><a id='Python_Division'></a><br>\n",
    "Differentiate between %, /, and //? \n",
    "\n",
    "% (Modulus operator) is responsible for returning a remainder after the division. \n",
    "/ (Operator) it returns the quotient post division. \n",
    "// (Floor division) it rounds off the quotient to the bottom. "
   ]
  },
  {
   "cell_type": "code",
   "execution_count": 4,
   "metadata": {},
   "outputs": [
    {
     "name": "stdout",
     "output_type": "stream",
     "text": [
      "0.5 1.25 1.0\n"
     ]
    }
   ],
   "source": [
    "a = 2.5%2\n",
    "b = 2.5/2\n",
    "c = 2.5//2\n",
    "print(a,b,c)\n",
    "#Output: 0.5, 1.25, 1.0"
   ]
  },
  {
   "cell_type": "markdown",
   "metadata": {},
   "source": [
    "[contents](#contents)<br>\n",
    "<b> Array</b><a id='Array'></a><br>\n",
    "Arrays store multiple values in one single variable. For example, you could create an array “faang” which included Facebook, Apple, Amazon, Netflix and Google."
   ]
  },
  {
   "cell_type": "code",
   "execution_count": 6,
   "metadata": {},
   "outputs": [
    {
     "name": "stdout",
     "output_type": "stream",
     "text": [
      "['facebook', 'apple', 'amazon', 'netflix', 'google']\n"
     ]
    }
   ],
   "source": [
    "faang = [\"facebook\", \"apple\", \"amazon\", \"netflix\", \"google\"]\n",
    "print(faang)\n",
    "#Output: ['facebook', 'apple', 'amazon', 'netflix', 'google']"
   ]
  },
  {
   "cell_type": "markdown",
   "metadata": {},
   "source": [
    "[contents](#contents)<br>\n",
    "<b> Zip and Enumerate</b><a id='zip_enumerate'></a><br>\n",
    "The enumerate() function returns the indexes of all items in lists, dictionaries, sets and other iterables. The zip() function combines multiple iterables.\n",
    "The enumerate() function adds a counter as the key of the enumerate object."
   ]
  },
  {
   "cell_type": "code",
   "execution_count": 16,
   "metadata": {},
   "outputs": [
    {
     "name": "stdout",
     "output_type": "stream",
     "text": [
      "[(0, 'apple'), (1, 'banana'), (2, 'cherry')]\n",
      "(1, 'banana')\n",
      "banana\n",
      "((1, (0, 'apple')), (2, (1, 'banana')), (3, (2, 'cherry')))\n",
      "cherry\n"
     ]
    }
   ],
   "source": [
    "x = ('apple', 'banana', 'cherry')\n",
    "y = enumerate(x)\n",
    "# Turn it into a list to see\n",
    "y_list = list(y)\n",
    "print(y_list)\n",
    "# Output: [(0, 'apple'), (1, 'banana'), (2, 'cherry')]\n",
    "\n",
    "# choosing from list\n",
    "print(y_list[1]) # Giving you the whole thing\n",
    "print(y_list[1][1]) # Giving you the 1 position on the 1 thing\n",
    "\n",
    "#Turn it back to a tuple\n",
    "tuple_y = tuple(enumerate(y_list, start=1))\n",
    "print(tuple_y)\n",
    "\n",
    "# Get just Cherry\n",
    "print(tuple_y[2][1][1])"
   ]
  },
  {
   "cell_type": "markdown",
   "metadata": {},
   "source": [
    "The zip() function returns a zip object, which is an iterator of tuples where the first item in each passed iterator is paired together, and then the second item in each passed iterator are paired together etc.\n",
    "\n",
    "If the passed iterators have different lengths, the iterator with the least items decides the length of the new iterator."
   ]
  },
  {
   "cell_type": "code",
   "execution_count": 18,
   "metadata": {},
   "outputs": [
    {
     "name": "stdout",
     "output_type": "stream",
     "text": [
      "(('John', 'Jenny'), ('Charles', 'Christy'), ('Mike', 'Monica'))\n",
      "[('John', 'Jenny'), ('Charles', 'Christy'), ('Mike', 'Monica')]\n"
     ]
    }
   ],
   "source": [
    "# Zip function\n",
    "a = (\"John\", \"Charles\", \"Mike\")\n",
    "b = (\"Jenny\", \"Christy\", \"Monica\", \"Vicky\")\n",
    "x = zip(a, b)\n",
    "#use the tuple() function to display a readable version of the result:\n",
    "print(tuple(x))\n",
    "\n",
    "c = (\"John\", \"Charles\", \"Mike\")\n",
    "d = (\"Jenny\", \"Christy\", \"Monica\", \"Vicky\")\n",
    "x = zip(a, b)\n",
    "#use the list() function to display a readable version of the result:\n",
    "print(list(x))\n",
    "\n",
    "# Output1: (('John', 'Jenny'), ('Charles', 'Christy'), ('Mike', 'Monica'))\n",
    "# Output2: [('John', 'Jenny'), ('Charles', 'Christy'), ('Mike', 'Monica')]"
   ]
  },
  {
   "cell_type": "markdown",
   "metadata": {},
   "source": [
    "[contents](#contents)<br>\n",
    "<b> Negative Indexing</b><a id='negative_indexing'></a><br>"
   ]
  },
  {
   "cell_type": "code",
   "execution_count": null,
   "metadata": {},
   "outputs": [],
   "source": []
  },
  {
   "cell_type": "markdown",
   "metadata": {},
   "source": [
    "[contents](#contents)<br>\n",
    "<b> String Manipulation</b><a id='string_manipulation'></a><br><br>\n",
    "Negative indexes are used in Python to assess and index lists and arrays from the end of your string, moving backwards towards your first value. For example, n-1 will show the last item in a list, while n-2 will show the second to last and so on."
   ]
  },
  {
   "cell_type": "code",
   "execution_count": 17,
   "metadata": {},
   "outputs": [
    {
     "name": "stdout",
     "output_type": "stream",
     "text": [
      "9\n",
      "[9, 6, 5, 7, 4, 5, 2]\n",
      "e\n"
     ]
    }
   ],
   "source": [
    "list = [2, 5, 4, 7, 5, 6, 9]\n",
    "print (list[-1])\n",
    "#Output = 9\n",
    "\n",
    "reverse_list = list[::-1]\n",
    "print(reverse_list)\n",
    "#Output = [9, 6, 5, 7, 4, 5, 2]\n",
    "\n",
    "text = \"I love data science\"\n",
    "print (text[-4])\n",
    "#Output = e"
   ]
  },
  {
   "cell_type": "markdown",
   "metadata": {},
   "source": [
    "[contents](#contents)<br>\n",
    "<b> Map Reduce Filter Functions </b><a id='map_reduce_filter'></a><br><br>\n",
    "The map() function in Python applies a given function to each element of an iterable, such as a list or a tuple and returns an interator containing the results. If one iterable is shorter than another it is assumed to be extended with None items. <br><br>\n"
   ]
  },
  {
   "cell_type": "code",
   "execution_count": 31,
   "metadata": {},
   "outputs": [
    {
     "name": "stdout",
     "output_type": "stream",
     "text": [
      "[['f', 'o', 'o'], ['b', 'a', 'r'], ['b', 'a', 'z']]\n",
      "[['f', 'o', 'o'], ['b', 'a', 'r'], ['b', 'a', 'z']]\n"
     ]
    }
   ],
   "source": [
    "# map(f, iterable)\n",
    "# is equilavent to\n",
    "# [f(x) for x in iterable]\n",
    "\n",
    "a = [\"foo\", \"bar\", \"baz\"]\n",
    "print(list(tuple(map(list, a))))\n",
    "# you can't use list twice\n",
    "\n",
    "print([list(b) for b in a])"
   ]
  },
  {
   "cell_type": "markdown",
   "metadata": {},
   "source": [
    "Python's filter() function is used to filter out elements from an iterable (list, tuple, dictionary, etc..)"
   ]
  },
  {
   "cell_type": "code",
   "execution_count": 32,
   "metadata": {},
   "outputs": [
    {
     "data": {
      "text/plain": [
       "[10, 6, 50]"
      ]
     },
     "execution_count": 32,
     "metadata": {},
     "output_type": "execute_result"
    }
   ],
   "source": [
    "numbers = [1, 3, 10, 45, 6, 50]\n",
    "\n",
    "def is_even(number):\n",
    "    return number % 2 == 0  # Filtering condition\n",
    "\n",
    "list(filter(is_even, numbers))"
   ]
  },
  {
   "cell_type": "code",
   "execution_count": 12,
   "metadata": {},
   "outputs": [
    {
     "data": {
      "text/html": [
       "<div>\n",
       "<style>\n",
       "    .dataframe thead tr:only-child th {\n",
       "        text-align: right;\n",
       "    }\n",
       "\n",
       "    .dataframe thead th {\n",
       "        text-align: left;\n",
       "    }\n",
       "\n",
       "    .dataframe tbody tr th {\n",
       "        vertical-align: top;\n",
       "    }\n",
       "</style>\n",
       "<table border=\"1\" class=\"dataframe\">\n",
       "  <thead>\n",
       "    <tr style=\"text-align: right;\">\n",
       "      <th></th>\n",
       "      <th>Age</th>\n",
       "      <th>Phone_Type</th>\n",
       "    </tr>\n",
       "  </thead>\n",
       "  <tbody>\n",
       "    <tr>\n",
       "      <th>3</th>\n",
       "      <td>30</td>\n",
       "      <td>iPhone</td>\n",
       "    </tr>\n",
       "  </tbody>\n",
       "</table>\n",
       "</div>"
      ],
      "text/plain": [
       "   Age Phone_Type\n",
       "3   30     iPhone"
      ]
     },
     "execution_count": 12,
     "metadata": {},
     "output_type": "execute_result"
    }
   ],
   "source": [
    "import pandas as pd\n",
    "df = pd.DataFrame({'Age': [25,20,60,30],\n",
    "                   'Phone_Type':['iPhone','Samsung','Nokia','iPhone']})\n",
    "\n",
    "df2 = df[(df[\"Age\"] > 25) & (df[\"Phone_Type\"] == 'iPhone')]\n",
    "df2"
   ]
  },
  {
   "cell_type": "markdown",
   "metadata": {},
   "source": [
    "[contents](#contents)<br>\n",
    "<b> Range() </b><a id='Range'></a><br>"
   ]
  },
  {
   "cell_type": "code",
   "execution_count": 20,
   "metadata": {},
   "outputs": [
    {
     "name": "stdout",
     "output_type": "stream",
     "text": [
      "1\n",
      "3\n",
      "5\n",
      "[1, 3, 5]\n"
     ]
    }
   ],
   "source": [
    "# 1 is the first number, 6 the the last number +1, 2 is the difference between them\n",
    "for i in range (1,6,2):\n",
    "    print(i)\n",
    "    \n",
    "list = []\n",
    "for i in range (1,6,2):\n",
    "    list.append(i)\n",
    "print(list)   "
   ]
  },
  {
   "cell_type": "markdown",
   "metadata": {},
   "source": [
    " Write a function that can take a string and return a list of bigrams.\n",
    " https://www.geeksforgeeks.org/python-bigram-formation-from-given-list/"
   ]
  },
  {
   "cell_type": "code",
   "execution_count": 4,
   "metadata": {},
   "outputs": [
    {
     "name": "stdout",
     "output_type": "stream",
     "text": [
      "The original list is : ['Hannah is best I love her']\n",
      "The formed bigrams are : [('Hannah', 'is'), ('is', 'best'), ('best', 'I'), ('I', 'love'), ('love', 'her')]\n"
     ]
    },
    {
     "ename": "NameError",
     "evalue": "name 'squares' is not defined",
     "output_type": "error",
     "traceback": [
      "\u001b[0;31m---------------------------------------------------------------------------\u001b[0m",
      "\u001b[0;31mNameError\u001b[0m                                 Traceback (most recent call last)",
      "\u001b[0;32m<ipython-input-4-8481bb3c092e>\u001b[0m in \u001b[0;36m<module>\u001b[0;34m()\u001b[0m\n\u001b[1;32m     15\u001b[0m \u001b[0;34m\u001b[0m\u001b[0m\n\u001b[1;32m     16\u001b[0m \u001b[0;31m# list comprehension\u001b[0m\u001b[0;34m\u001b[0m\u001b[0;34m\u001b[0m\u001b[0;34m\u001b[0m\u001b[0m\n\u001b[0;32m---> 17\u001b[0;31m \u001b[0meven_nos\u001b[0m \u001b[0;34m=\u001b[0m \u001b[0;34m[\u001b[0m\u001b[0mi\u001b[0m \u001b[0;32mfor\u001b[0m \u001b[0mi\u001b[0m \u001b[0;32min\u001b[0m \u001b[0msquares\u001b[0m \u001b[0;32mif\u001b[0m \u001b[0;34m(\u001b[0m\u001b[0mi\u001b[0m \u001b[0;34m%\u001b[0m \u001b[0;36m2\u001b[0m\u001b[0;34m)\u001b[0m \u001b[0;34m==\u001b[0m \u001b[0;36m0\u001b[0m\u001b[0;34m]\u001b[0m\u001b[0;34m\u001b[0m\u001b[0;34m\u001b[0m\u001b[0m\n\u001b[0m\u001b[1;32m     18\u001b[0m \u001b[0;34m\u001b[0m\u001b[0m\n\u001b[1;32m     19\u001b[0m \u001b[0;31m# Tuple unpacking\u001b[0m\u001b[0;34m\u001b[0m\u001b[0;34m\u001b[0m\u001b[0;34m\u001b[0m\u001b[0m\n",
      "\u001b[0;31mNameError\u001b[0m: name 'squares' is not defined"
     ]
    }
   ],
   "source": [
    "# using list comprehension + enumerate() + split()\n",
    "\n",
    "# initializing list\n",
    "phrase = ['Hannah is best I love her']\n",
    " \n",
    "# printing the original list\n",
    "print (\"The original list is : \" + str(phrase))\n",
    " \n",
    "# for Bigram formation\n",
    "res = [(x, i.split()[j + 1]) for i in phrase\n",
    "       for j, x in enumerate(i.split()) if j < len(i.split()) - 1]\n",
    " \n",
    "# printing result\n",
    "print (\"The formed bigrams are : \" + str(res))\n",
    "\n",
    "# list comprehension\n",
    "even_nos = [i for i in squares if (i % 2) == 0]\n",
    "\n",
    "# Tuple unpacking\n",
    "a = ('Goode', 'Hannah')\n",
    "surname, forname = a \n",
    "print(forname, surname)\n",
    "\n",
    "res = [(x, i.split()[j + 1]) for i in phrase\n",
    "       for j, x in enumerate(i.split()) if j < len(i.split()) - 1]\n",
    "\n",
    "# x, (tuple unpacking). i.split()[j+1] (getting the second one in the list)\n",
    "# for j, x (tuple unpacking). in enumerate(i.split()) (adding an index number to it)\n",
    "# if j < len(i.split())-1 (if j is less than the length of your split minus1)"
   ]
  },
  {
   "cell_type": "code",
   "execution_count": 22,
   "metadata": {},
   "outputs": [
    {
     "name": "stdout",
     "output_type": "stream",
     "text": [
      "The original list is : ['Hannah is best', 'I love her']\n",
      "The formed bigrams are : [('Hannah', 'is'), ('is', 'best'), ('I', 'love'), ('love', 'her')]\n"
     ]
    }
   ],
   "source": [
    "# using zip() + split() + list comprehension\n",
    "\n",
    "# initializing list\n",
    "test_list = ['Hannah is best', 'I love her']\n",
    " \n",
    "# printing the original list\n",
    "print (\"The original list is : \" + str(test_list))\n",
    " \n",
    "# for Bigram formation\n",
    "res = [i for j in test_list\n",
    "       for i in zip(j.split(\" \")[:-1], j.split(\" \")[1:])]\n",
    " \n",
    "# printing result\n",
    "print (\"The formed bigrams are : \" + str(res))"
   ]
  },
  {
   "cell_type": "markdown",
   "metadata": {},
   "source": [
    "Given two strings A and B, return whether or not A can be shifted some number of times to get B."
   ]
  },
  {
   "cell_type": "code",
   "execution_count": 23,
   "metadata": {},
   "outputs": [
    {
     "name": "stdout",
     "output_type": "stream",
     "text": [
      "None\n"
     ]
    }
   ],
   "source": [
    "# The ord() function returns the number representing the unicode code of a specified character.\n",
    "\n",
    "class Solution:\n",
    "   def solve(self, a, b, k):\n",
    "      if len(a) != len(b):\n",
    "         return False\n",
    "      if k == 0 and a != b:\n",
    "         return False\n",
    "         su=0\n",
    "         for i in range(len(a)):\n",
    "            v = ord(b[i])- ord(a[i])\n",
    "            if v>=0:\n",
    "               su+=v\n",
    "            else:\n",
    "               su+=v+26\n",
    "            if su>k:\n",
    "               return False\n",
    "         return True\n",
    "ob = Solution()\n",
    "print(ob.solve(\"abc\", \"ccc\", 3))"
   ]
  },
  {
   "attachments": {
    "image.png": {
     "image/png": "[encoded data removed]"
    }
   },
   "cell_type": "markdown",
   "metadata": {},
   "source": [
    "Given two strings, string1 and string2, determine if there exists a one to one character mapping between each character of string1 to string2.\n",
    "Check if two given Strings are Isomorphic to each other\n",
    "Two strings str1 and str2 are called isomorphic if there is a one-to-one mapping possible for every character of str1 to every character of str2. And all occurrences of every character in ‘str1’ map to the same character in ‘str2’.\n",
    "![image.png](attachment:image.png)"
   ]
  },
  {
   "cell_type": "code",
   "execution_count": 1,
   "metadata": {},
   "outputs": [
    {
     "name": "stdout",
     "output_type": "stream",
     "text": [
      "True\n"
     ]
    }
   ],
   "source": [
    "# this function returns true if str1 and str2 are isomorphic\n",
    "\n",
    "def areIsomorphic(str1, str2):\n",
    "    charCount = dict() #initializing a dictionary to store letters from str1 and str2 as key value pairs.\n",
    "    c = \"a\" # initially setting c to \"a\"\n",
    "    for i in range(len(str1)): # iterating over str1 and str2\n",
    "        if str1[i] in charCount: # if str1[i] is a key in charCount (str1[i] is ith number in str1)\n",
    "            c = charCount[str1[i]]\n",
    "            if c != str2[i]:\n",
    "                return False\n",
    "        elif str2[i] not in charCount.values():# if str2[i] is not a value in charCount\n",
    "            charCount[str1[i]] = str2[i]\n",
    "        else:\n",
    "            return False\n",
    "    return True\n",
    "\n",
    "# Driver Code\n",
    "str1 = \"aac\"\n",
    "str2 = \"xxy\"\n",
    "\n",
    "# Function Call\n",
    "if (len(str1) == len(str2) and areIsomorphic(str1, str2)):\n",
    "    print(\"True\")\n",
    "else:\n",
    "    print(\"False\")"
   ]
  },
  {
   "cell_type": "markdown",
   "metadata": {},
   "source": [
    "Given a string, return the first recurring character in it, or “None” if there is no recurring character.\n",
    "Code to output the first repeated character in given string?"
   ]
  },
  {
   "cell_type": "code",
   "execution_count": 7,
   "metadata": {},
   "outputs": [
    {
     "name": "stdout",
     "output_type": "stream",
     "text": [
      "a\n"
     ]
    },
    {
     "data": {
      "text/plain": [
       "'a'"
      ]
     },
     "execution_count": 7,
     "metadata": {},
     "output_type": "execute_result"
    }
   ],
   "source": [
    "letters = 'acbda'\n",
    "seen = set()\n",
    "\n",
    "for l in letters:\n",
    "    if l in seen:\n",
    "        print(l)\n",
    "        break\n",
    "    else:\n",
    "        seen.add(l)\n",
    "\n",
    "letters = 'acbda'\n",
    "next(i for i in letters if letters.count(i)>1)"
   ]
  },
  {
   "attachments": {
    "image-2.png": {
     "image/png": "[encoded data removed]"
    }
   },
   "cell_type": "markdown",
   "metadata": {},
   "source": [
    "subsequence means the state of following something, especially as a result or effect\n",
    "Given two strings, string1 and string2, write a function is_subsequence to find out if string1 is a subsequence of string2.\n",
    "Hint: Notice that in the subsequence problem set, one string in this problem will need to be traversed to check for the values of the other string. In this case, it is string2.\n",
    "\n",
    "The idea to solve this should then be simple. We traverse both strings from one side to the other side going from leftmost to rightmost. If we find a matching character, we move ahead in both strings. Otherwise, we move ahead only in string2.\n",
    "\n",
    "A subsequence is a sequence that can be derived from another sequence by deleting some elements without changing the order of the remaining elements.\n",
    "![image-2.png](attachment:image-2.png)"
   ]
  },
  {
   "cell_type": "code",
   "execution_count": 9,
   "metadata": {},
   "outputs": [
    {
     "data": {
      "text/plain": [
       "True"
      ]
     },
     "execution_count": 9,
     "metadata": {},
     "output_type": "execute_result"
    }
   ],
   "source": [
    "def is_subseq(x, y):\n",
    "    it = iter(y)\n",
    "    return all(c in it for c in x)\n",
    "\n",
    "is_subseq('Sar', 'Sarah')"
   ]
  },
  {
   "cell_type": "code",
   "execution_count": null,
   "metadata": {},
   "outputs": [],
   "source": []
  },
  {
   "cell_type": "markdown",
   "metadata": {},
   "source": [
    "[contents](#contents)<br>\n",
    "<b> Data Science Python Questions </b><a id='Data_Science_Python_Questions'></a><br>\n",
    "\n",
    "https://www.kdnuggets.com/2022/04/15-python-coding-interview-questions-must-know-data-science.html"
   ]
  },
  {
   "cell_type": "code",
   "execution_count": 1,
   "metadata": {},
   "outputs": [
    {
     "data": {
      "text/html": [
       "<div>\n",
       "<style scoped>\n",
       "    .dataframe tbody tr th:only-of-type {\n",
       "        vertical-align: middle;\n",
       "    }\n",
       "\n",
       "    .dataframe tbody tr th {\n",
       "        vertical-align: top;\n",
       "    }\n",
       "\n",
       "    .dataframe thead th {\n",
       "        text-align: right;\n",
       "    }\n",
       "</style>\n",
       "<table border=\"1\" class=\"dataframe\">\n",
       "  <thead>\n",
       "    <tr style=\"text-align: right;\">\n",
       "      <th></th>\n",
       "      <th>gender</th>\n",
       "      <th>parent_education</th>\n",
       "      <th>lunch</th>\n",
       "      <th>preparation_course</th>\n",
       "      <th>math_score</th>\n",
       "      <th>writing_score</th>\n",
       "    </tr>\n",
       "  </thead>\n",
       "  <tbody>\n",
       "    <tr>\n",
       "      <th>0</th>\n",
       "      <td>female</td>\n",
       "      <td>bachelor's degree</td>\n",
       "      <td>NaN</td>\n",
       "      <td>none</td>\n",
       "      <td>72</td>\n",
       "      <td>74</td>\n",
       "    </tr>\n",
       "    <tr>\n",
       "      <th>1</th>\n",
       "      <td>female</td>\n",
       "      <td>some college</td>\n",
       "      <td>False</td>\n",
       "      <td>completed</td>\n",
       "      <td>69</td>\n",
       "      <td>88</td>\n",
       "    </tr>\n",
       "    <tr>\n",
       "      <th>2</th>\n",
       "      <td>female</td>\n",
       "      <td>master's degree</td>\n",
       "      <td>False</td>\n",
       "      <td>none</td>\n",
       "      <td>90</td>\n",
       "      <td>93</td>\n",
       "    </tr>\n",
       "    <tr>\n",
       "      <th>3</th>\n",
       "      <td>male</td>\n",
       "      <td>associate's degree</td>\n",
       "      <td>True</td>\n",
       "      <td>none</td>\n",
       "      <td>47</td>\n",
       "      <td>44</td>\n",
       "    </tr>\n",
       "    <tr>\n",
       "      <th>4</th>\n",
       "      <td>male</td>\n",
       "      <td>some college</td>\n",
       "      <td>False</td>\n",
       "      <td>none</td>\n",
       "      <td>76</td>\n",
       "      <td>75</td>\n",
       "    </tr>\n",
       "  </tbody>\n",
       "</table>\n",
       "</div>"
      ],
      "text/plain": [
       "   gender    parent_education  lunch preparation_course  math_score  \\\n",
       "0  female   bachelor's degree    NaN               none          72   \n",
       "1  female        some college  False          completed          69   \n",
       "2  female     master's degree  False               none          90   \n",
       "3    male  associate's degree   True               none          47   \n",
       "4    male        some college  False               none          76   \n",
       "\n",
       "   writing_score  \n",
       "0             74  \n",
       "1             88  \n",
       "2             93  \n",
       "3             44  \n",
       "4             75  "
      ]
     },
     "execution_count": 1,
     "metadata": {},
     "output_type": "execute_result"
    }
   ],
   "source": [
    "\n",
    "import os, types\n",
    "import pandas as pd\n",
    "from botocore.client import Config\n",
    "import ibm_boto3\n",
    "\n",
    "def __iter__(self): return 0\n",
    "\n",
    "# @hidden_cell\n",
    "# The following code accesses a file in your IBM Cloud Object Storage. It includes your credentials.\n",
    "# You might want to remove those credentials before you share the notebook.\n",
    "cos_client = ibm_boto3.client(service_name='s3',\n",
    "    ibm_api_key_id='t8p2slFXJwOEGyrXj1Ndq14r80u7fpQP-yR6YoksOi_U',\n",
    "    ibm_auth_endpoint=\"https://iam.cloud.ibm.com/oidc/token\",\n",
    "    config=Config(signature_version='oauth'),\n",
    "    endpoint_url='https://s3.private.us-south.cloud-object-storage.appdomain.cloud')\n",
    "\n",
    "bucket = 'datasciencejob-donotdelete-pr-snxbpccxmi68wx'\n",
    "object_key = 'student_performance.csv'\n",
    "\n",
    "body = cos_client.get_object(Bucket=bucket,Key=object_key)['Body']\n",
    "# add missing __iter__ method, so pandas accepts body as file-like object\n",
    "if not hasattr(body, \"__iter__\"): body.__iter__ = types.MethodType( __iter__, body )\n",
    "\n",
    "student_d = pd.read_csv(body)\n",
    "student_d.head()\n"
   ]
  },
  {
   "cell_type": "code",
   "execution_count": 33,
   "metadata": {},
   "outputs": [
    {
     "data": {
      "text/html": [
       "<div>\n",
       "<style>\n",
       "    .dataframe thead tr:only-child th {\n",
       "        text-align: right;\n",
       "    }\n",
       "\n",
       "    .dataframe thead th {\n",
       "        text-align: left;\n",
       "    }\n",
       "\n",
       "    .dataframe tbody tr th {\n",
       "        vertical-align: top;\n",
       "    }\n",
       "</style>\n",
       "<table border=\"1\" class=\"dataframe\">\n",
       "  <thead>\n",
       "    <tr style=\"text-align: right;\">\n",
       "      <th></th>\n",
       "      <th>gender</th>\n",
       "      <th>parent_education</th>\n",
       "      <th>lunch</th>\n",
       "      <th>preparation_course</th>\n",
       "      <th>math_score</th>\n",
       "      <th>writing_score</th>\n",
       "    </tr>\n",
       "  </thead>\n",
       "  <tbody>\n",
       "    <tr>\n",
       "      <th>0</th>\n",
       "      <td>female</td>\n",
       "      <td>bachelor's degree</td>\n",
       "      <td>NaN</td>\n",
       "      <td>none</td>\n",
       "      <td>72</td>\n",
       "      <td>74</td>\n",
       "    </tr>\n",
       "    <tr>\n",
       "      <th>1</th>\n",
       "      <td>female</td>\n",
       "      <td>some college</td>\n",
       "      <td>False</td>\n",
       "      <td>completed</td>\n",
       "      <td>69</td>\n",
       "      <td>88</td>\n",
       "    </tr>\n",
       "    <tr>\n",
       "      <th>2</th>\n",
       "      <td>female</td>\n",
       "      <td>master's degree</td>\n",
       "      <td>False</td>\n",
       "      <td>none</td>\n",
       "      <td>90</td>\n",
       "      <td>93</td>\n",
       "    </tr>\n",
       "  </tbody>\n",
       "</table>\n",
       "</div>"
      ],
      "text/plain": [
       "   gender   parent_education  lunch preparation_course  math_score  \\\n",
       "0  female  bachelor's degree    NaN               none          72   \n",
       "1  female       some college  False          completed          69   \n",
       "2  female    master's degree  False               none          90   \n",
       "\n",
       "   writing_score  \n",
       "0             74  \n",
       "1             88  \n",
       "2             93  "
      ]
     },
     "execution_count": 33,
     "metadata": {},
     "output_type": "execute_result"
    }
   ],
   "source": [
    "import pandas as pd\n",
    "student_d = pd.read_csv(\"student_performance.csv\")\n",
    "student_d.head(3)"
   ]
  },
  {
   "cell_type": "markdown",
   "metadata": {},
   "source": [
    "In pandas, the default missing value marker is NaN.\n",
    "You can detect all missing values in a DataFrame by using the isna() or .isnull() function from the pandas library:"
   ]
  },
  {
   "cell_type": "code",
   "execution_count": 5,
   "metadata": {},
   "outputs": [
    {
     "data": {
      "text/html": [
       "<div>\n",
       "<style>\n",
       "    .dataframe thead tr:only-child th {\n",
       "        text-align: right;\n",
       "    }\n",
       "\n",
       "    .dataframe thead th {\n",
       "        text-align: left;\n",
       "    }\n",
       "\n",
       "    .dataframe tbody tr th {\n",
       "        vertical-align: top;\n",
       "    }\n",
       "</style>\n",
       "<table border=\"1\" class=\"dataframe\">\n",
       "  <thead>\n",
       "    <tr style=\"text-align: right;\">\n",
       "      <th></th>\n",
       "      <th>gender</th>\n",
       "      <th>parent_education</th>\n",
       "      <th>lunch</th>\n",
       "      <th>preparation_course</th>\n",
       "      <th>math_score</th>\n",
       "      <th>writing_score</th>\n",
       "    </tr>\n",
       "  </thead>\n",
       "  <tbody>\n",
       "    <tr>\n",
       "      <th>0</th>\n",
       "      <td>False</td>\n",
       "      <td>False</td>\n",
       "      <td>True</td>\n",
       "      <td>False</td>\n",
       "      <td>False</td>\n",
       "      <td>False</td>\n",
       "    </tr>\n",
       "    <tr>\n",
       "      <th>1</th>\n",
       "      <td>False</td>\n",
       "      <td>False</td>\n",
       "      <td>False</td>\n",
       "      <td>False</td>\n",
       "      <td>False</td>\n",
       "      <td>False</td>\n",
       "    </tr>\n",
       "    <tr>\n",
       "      <th>2</th>\n",
       "      <td>False</td>\n",
       "      <td>False</td>\n",
       "      <td>False</td>\n",
       "      <td>False</td>\n",
       "      <td>False</td>\n",
       "      <td>False</td>\n",
       "    </tr>\n",
       "  </tbody>\n",
       "</table>\n",
       "</div>"
      ],
      "text/plain": [
       "   gender  parent_education  lunch  preparation_course  math_score  \\\n",
       "0   False             False   True               False       False   \n",
       "1   False             False  False               False       False   \n",
       "2   False             False  False               False       False   \n",
       "\n",
       "   writing_score  \n",
       "0          False  \n",
       "1          False  \n",
       "2          False  "
      ]
     },
     "execution_count": 5,
     "metadata": {},
     "output_type": "execute_result"
    }
   ],
   "source": [
    "# Find missingness can also use .isna()\n",
    "student_d.isnull().head(3)"
   ]
  },
  {
   "cell_type": "markdown",
   "metadata": {},
   "source": [
    "To explore the composition of a column, including how many missing values it has, use the info() function; it shows the number of non-null entries in each column together with the total number of entries in that column (the difference, of course, is the number of missing values!)."
   ]
  },
  {
   "cell_type": "code",
   "execution_count": 6,
   "metadata": {},
   "outputs": [
    {
     "name": "stdout",
     "output_type": "stream",
     "text": [
      "<class 'pandas.core.frame.DataFrame'>\n",
      "RangeIndex: 1000 entries, 0 to 999\n",
      "Data columns (total 6 columns):\n",
      "gender                1000 non-null object\n",
      "parent_education      1000 non-null object\n",
      "lunch                 900 non-null object\n",
      "preparation_course    800 non-null object\n",
      "math_score            1000 non-null int64\n",
      "writing_score         1000 non-null int64\n",
      "dtypes: int64(2), object(4)\n",
      "memory usage: 47.0+ KB\n"
     ]
    }
   ],
   "source": [
    "student_d.info()"
   ]
  },
  {
   "cell_type": "code",
   "execution_count": 7,
   "metadata": {},
   "outputs": [
    {
     "name": "stdout",
     "output_type": "stream",
     "text": [
      "the shape is (1000, 6)\n",
      "the no of rows is 1000\n",
      "the no of columns is 6\n"
     ]
    }
   ],
   "source": [
    "#shape\n",
    "print('the shape is', student_d.shape)\n",
    "print('the no of rows is', student_d.shape[0])\n",
    "print('the no of columns is', student_d.shape[1])"
   ]
  },
  {
   "cell_type": "markdown",
   "metadata": {},
   "source": [
    "choosing positions in dataframe by index"
   ]
  },
  {
   "cell_type": "code",
   "execution_count": 15,
   "metadata": {},
   "outputs": [
    {
     "data": {
      "text/html": [
       "<div>\n",
       "<style>\n",
       "    .dataframe thead tr:only-child th {\n",
       "        text-align: right;\n",
       "    }\n",
       "\n",
       "    .dataframe thead th {\n",
       "        text-align: left;\n",
       "    }\n",
       "\n",
       "    .dataframe tbody tr th {\n",
       "        vertical-align: top;\n",
       "    }\n",
       "</style>\n",
       "<table border=\"1\" class=\"dataframe\">\n",
       "  <thead>\n",
       "    <tr style=\"text-align: right;\">\n",
       "      <th></th>\n",
       "      <th>math_score</th>\n",
       "      <th>writing_score</th>\n",
       "    </tr>\n",
       "  </thead>\n",
       "  <tbody>\n",
       "    <tr>\n",
       "      <th>0</th>\n",
       "      <td>72</td>\n",
       "      <td>74</td>\n",
       "    </tr>\n",
       "  </tbody>\n",
       "</table>\n",
       "</div>"
      ],
      "text/plain": [
       "   math_score  writing_score\n",
       "0          72             74"
      ]
     },
     "execution_count": 15,
     "metadata": {},
     "output_type": "execute_result"
    }
   ],
   "source": [
    "# get writing and maths score (5th and 6th column, position 4 and 5)\n",
    "writing_maths = student_d.iloc[:, 4:6] \n",
    "# you have to start at 4, the one before 5&6\n",
    "writing_maths.head(1)"
   ]
  },
  {
   "cell_type": "code",
   "execution_count": 12,
   "metadata": {},
   "outputs": [
    {
     "data": {
      "text/html": [
       "<div>\n",
       "<style>\n",
       "    .dataframe thead tr:only-child th {\n",
       "        text-align: right;\n",
       "    }\n",
       "\n",
       "    .dataframe thead th {\n",
       "        text-align: left;\n",
       "    }\n",
       "\n",
       "    .dataframe tbody tr th {\n",
       "        vertical-align: top;\n",
       "    }\n",
       "</style>\n",
       "<table border=\"1\" class=\"dataframe\">\n",
       "  <thead>\n",
       "    <tr style=\"text-align: right;\">\n",
       "      <th></th>\n",
       "      <th>preparation_course</th>\n",
       "      <th>math_score</th>\n",
       "      <th>writing_score</th>\n",
       "    </tr>\n",
       "  </thead>\n",
       "  <tbody>\n",
       "    <tr>\n",
       "      <th>0</th>\n",
       "      <td>none</td>\n",
       "      <td>72</td>\n",
       "      <td>74</td>\n",
       "    </tr>\n",
       "  </tbody>\n",
       "</table>\n",
       "</div>"
      ],
      "text/plain": [
       "  preparation_course  math_score  writing_score\n",
       "0               none          72             74"
      ]
     },
     "execution_count": 12,
     "metadata": {},
     "output_type": "execute_result"
    }
   ],
   "source": [
    "# Get last 3 columns\n",
    "last_3_col = student_d.iloc[:, 3:]\n",
    "# you have to start at 3, the one before 4,5&6\n",
    "last_3_col.head(1)"
   ]
  },
  {
   "cell_type": "code",
   "execution_count": 11,
   "metadata": {},
   "outputs": [
    {
     "data": {
      "text/html": [
       "<div>\n",
       "<style>\n",
       "    .dataframe thead tr:only-child th {\n",
       "        text-align: right;\n",
       "    }\n",
       "\n",
       "    .dataframe thead th {\n",
       "        text-align: left;\n",
       "    }\n",
       "\n",
       "    .dataframe tbody tr th {\n",
       "        vertical-align: top;\n",
       "    }\n",
       "</style>\n",
       "<table border=\"1\" class=\"dataframe\">\n",
       "  <thead>\n",
       "    <tr style=\"text-align: right;\">\n",
       "      <th></th>\n",
       "      <th>gender</th>\n",
       "      <th>parent_education</th>\n",
       "      <th>lunch</th>\n",
       "    </tr>\n",
       "  </thead>\n",
       "  <tbody>\n",
       "    <tr>\n",
       "      <th>0</th>\n",
       "      <td>female</td>\n",
       "      <td>bachelor's degree</td>\n",
       "      <td>NaN</td>\n",
       "    </tr>\n",
       "  </tbody>\n",
       "</table>\n",
       "</div>"
      ],
      "text/plain": [
       "   gender   parent_education lunch\n",
       "0  female  bachelor's degree   NaN"
      ]
     },
     "execution_count": 11,
     "metadata": {},
     "output_type": "execute_result"
    }
   ],
   "source": [
    "# get first 3 col\n",
    "first_3_col = student_d.iloc[:, :3] \n",
    "first_3_col.head(1)"
   ]
  },
  {
   "cell_type": "code",
   "execution_count": 2,
   "metadata": {},
   "outputs": [
    {
     "name": "stdout",
     "output_type": "stream",
     "text": [
      "190\n"
     ]
    }
   ],
   "source": [
    "\n"
   ]
  },
  {
   "cell_type": "code",
   "execution_count": 14,
   "metadata": {},
   "outputs": [
    {
     "data": {
      "text/html": [
       "<div>\n",
       "<style>\n",
       "    .dataframe thead tr:only-child th {\n",
       "        text-align: right;\n",
       "    }\n",
       "\n",
       "    .dataframe thead th {\n",
       "        text-align: left;\n",
       "    }\n",
       "\n",
       "    .dataframe tbody tr th {\n",
       "        vertical-align: top;\n",
       "    }\n",
       "</style>\n",
       "<table border=\"1\" class=\"dataframe\">\n",
       "  <thead>\n",
       "    <tr style=\"text-align: right;\">\n",
       "      <th></th>\n",
       "      <th>math_score</th>\n",
       "    </tr>\n",
       "  </thead>\n",
       "  <tbody>\n",
       "    <tr>\n",
       "      <th>0</th>\n",
       "      <td>72</td>\n",
       "    </tr>\n",
       "  </tbody>\n",
       "</table>\n",
       "</div>"
      ],
      "text/plain": [
       "   math_score\n",
       "0          72"
      ]
     },
     "execution_count": 14,
     "metadata": {},
     "output_type": "execute_result"
    }
   ],
   "source": [
    "#get just maths score (5th column position 4)\n",
    "just_maths = student_d.iloc[:, 4:5]\n",
    "just_maths.head(1)"
   ]
  },
  {
   "cell_type": "code",
   "execution_count": 15,
   "metadata": {},
   "outputs": [
    {
     "data": {
      "text/html": [
       "<div>\n",
       "<style>\n",
       "    .dataframe thead tr:only-child th {\n",
       "        text-align: right;\n",
       "    }\n",
       "\n",
       "    .dataframe thead th {\n",
       "        text-align: left;\n",
       "    }\n",
       "\n",
       "    .dataframe tbody tr th {\n",
       "        vertical-align: top;\n",
       "    }\n",
       "</style>\n",
       "<table border=\"1\" class=\"dataframe\">\n",
       "  <thead>\n",
       "    <tr style=\"text-align: right;\">\n",
       "      <th></th>\n",
       "      <th>gender</th>\n",
       "      <th>parent_education</th>\n",
       "      <th>lunch</th>\n",
       "      <th>preparation_course</th>\n",
       "      <th>math_score</th>\n",
       "      <th>writing_score</th>\n",
       "      <th>total_score</th>\n",
       "    </tr>\n",
       "  </thead>\n",
       "  <tbody>\n",
       "    <tr>\n",
       "      <th>9</th>\n",
       "      <td>female</td>\n",
       "      <td>high school</td>\n",
       "      <td>True</td>\n",
       "      <td>none</td>\n",
       "      <td>38</td>\n",
       "      <td>50</td>\n",
       "      <td>88</td>\n",
       "    </tr>\n",
       "  </tbody>\n",
       "</table>\n",
       "</div>"
      ],
      "text/plain": [
       "   gender parent_education lunch preparation_course  math_score  \\\n",
       "9  female      high school  True               none          38   \n",
       "\n",
       "   writing_score  total_score  \n",
       "9             50           88  "
      ]
     },
     "execution_count": 15,
     "metadata": {},
     "output_type": "execute_result"
    }
   ],
   "source": [
    "# Get 10th row\n",
    "_10th_row = student_d.iloc[9:10, :]\n",
    "_10th_row"
   ]
  },
  {
   "cell_type": "code",
   "execution_count": 16,
   "metadata": {},
   "outputs": [
    {
     "data": {
      "text/html": [
       "<div>\n",
       "<style>\n",
       "    .dataframe thead tr:only-child th {\n",
       "        text-align: right;\n",
       "    }\n",
       "\n",
       "    .dataframe thead th {\n",
       "        text-align: left;\n",
       "    }\n",
       "\n",
       "    .dataframe tbody tr th {\n",
       "        vertical-align: top;\n",
       "    }\n",
       "</style>\n",
       "<table border=\"1\" class=\"dataframe\">\n",
       "  <thead>\n",
       "    <tr style=\"text-align: right;\">\n",
       "      <th></th>\n",
       "      <th>gender</th>\n",
       "      <th>parent_education</th>\n",
       "      <th>lunch</th>\n",
       "      <th>preparation_course</th>\n",
       "      <th>math_score</th>\n",
       "      <th>writing_score</th>\n",
       "      <th>total_score</th>\n",
       "    </tr>\n",
       "  </thead>\n",
       "  <tbody>\n",
       "    <tr>\n",
       "      <th>0</th>\n",
       "      <td>female</td>\n",
       "      <td>bachelor's degree</td>\n",
       "      <td>NaN</td>\n",
       "      <td>none</td>\n",
       "      <td>72</td>\n",
       "      <td>74</td>\n",
       "      <td>146</td>\n",
       "    </tr>\n",
       "    <tr>\n",
       "      <th>1</th>\n",
       "      <td>female</td>\n",
       "      <td>some college</td>\n",
       "      <td>False</td>\n",
       "      <td>completed</td>\n",
       "      <td>69</td>\n",
       "      <td>88</td>\n",
       "      <td>157</td>\n",
       "    </tr>\n",
       "    <tr>\n",
       "      <th>2</th>\n",
       "      <td>female</td>\n",
       "      <td>master's degree</td>\n",
       "      <td>False</td>\n",
       "      <td>none</td>\n",
       "      <td>90</td>\n",
       "      <td>93</td>\n",
       "      <td>183</td>\n",
       "    </tr>\n",
       "  </tbody>\n",
       "</table>\n",
       "</div>"
      ],
      "text/plain": [
       "   gender   parent_education  lunch preparation_course  math_score  \\\n",
       "0  female  bachelor's degree    NaN               none          72   \n",
       "1  female       some college  False          completed          69   \n",
       "2  female    master's degree  False               none          90   \n",
       "\n",
       "   writing_score  total_score  \n",
       "0             74          146  \n",
       "1             88          157  \n",
       "2             93          183  "
      ]
     },
     "execution_count": 16,
     "metadata": {},
     "output_type": "execute_result"
    }
   ],
   "source": [
    "# get first 3 rows\n",
    "_1st_3_row = student_d.iloc[:3, :]\n",
    "# remember it starts at 0\n",
    "_1st_3_row"
   ]
  },
  {
   "cell_type": "code",
   "execution_count": 17,
   "metadata": {},
   "outputs": [
    {
     "data": {
      "text/html": [
       "<div>\n",
       "<style>\n",
       "    .dataframe thead tr:only-child th {\n",
       "        text-align: right;\n",
       "    }\n",
       "\n",
       "    .dataframe thead th {\n",
       "        text-align: left;\n",
       "    }\n",
       "\n",
       "    .dataframe tbody tr th {\n",
       "        vertical-align: top;\n",
       "    }\n",
       "</style>\n",
       "<table border=\"1\" class=\"dataframe\">\n",
       "  <thead>\n",
       "    <tr style=\"text-align: right;\">\n",
       "      <th></th>\n",
       "      <th>gender</th>\n",
       "      <th>parent_education</th>\n",
       "      <th>lunch</th>\n",
       "      <th>preparation_course</th>\n",
       "      <th>math_score</th>\n",
       "      <th>writing_score</th>\n",
       "      <th>total_score</th>\n",
       "    </tr>\n",
       "  </thead>\n",
       "  <tbody>\n",
       "    <tr>\n",
       "      <th>997</th>\n",
       "      <td>female</td>\n",
       "      <td>high school</td>\n",
       "      <td>True</td>\n",
       "      <td>completed</td>\n",
       "      <td>59</td>\n",
       "      <td>65</td>\n",
       "      <td>124</td>\n",
       "    </tr>\n",
       "    <tr>\n",
       "      <th>998</th>\n",
       "      <td>female</td>\n",
       "      <td>some college</td>\n",
       "      <td>False</td>\n",
       "      <td>completed</td>\n",
       "      <td>68</td>\n",
       "      <td>77</td>\n",
       "      <td>145</td>\n",
       "    </tr>\n",
       "    <tr>\n",
       "      <th>999</th>\n",
       "      <td>female</td>\n",
       "      <td>some college</td>\n",
       "      <td>True</td>\n",
       "      <td>none</td>\n",
       "      <td>77</td>\n",
       "      <td>86</td>\n",
       "      <td>163</td>\n",
       "    </tr>\n",
       "  </tbody>\n",
       "</table>\n",
       "</div>"
      ],
      "text/plain": [
       "     gender parent_education  lunch preparation_course  math_score  \\\n",
       "997  female      high school   True          completed          59   \n",
       "998  female     some college  False          completed          68   \n",
       "999  female     some college   True               none          77   \n",
       "\n",
       "     writing_score  total_score  \n",
       "997             65          124  \n",
       "998             77          145  \n",
       "999             86          163  "
      ]
     },
     "execution_count": 17,
     "metadata": {},
     "output_type": "execute_result"
    }
   ],
   "source": [
    "# get last 3 rows\n",
    "_last_3_row = student_d.iloc[student_d.shape[0]-3:, :] \n",
    "# remember it starts at 0\n",
    "_last_3_row"
   ]
  },
  {
   "cell_type": "code",
   "execution_count": 18,
   "metadata": {},
   "outputs": [
    {
     "data": {
      "text/html": [
       "<div>\n",
       "<style>\n",
       "    .dataframe thead tr:only-child th {\n",
       "        text-align: right;\n",
       "    }\n",
       "\n",
       "    .dataframe thead th {\n",
       "        text-align: left;\n",
       "    }\n",
       "\n",
       "    .dataframe tbody tr th {\n",
       "        vertical-align: top;\n",
       "    }\n",
       "</style>\n",
       "<table border=\"1\" class=\"dataframe\">\n",
       "  <thead>\n",
       "    <tr style=\"text-align: right;\">\n",
       "      <th></th>\n",
       "      <th>math_score</th>\n",
       "      <th>writing_score</th>\n",
       "    </tr>\n",
       "  </thead>\n",
       "  <tbody>\n",
       "    <tr>\n",
       "      <th>9</th>\n",
       "      <td>38</td>\n",
       "      <td>50</td>\n",
       "    </tr>\n",
       "    <tr>\n",
       "      <th>10</th>\n",
       "      <td>58</td>\n",
       "      <td>52</td>\n",
       "    </tr>\n",
       "  </tbody>\n",
       "</table>\n",
       "</div>"
      ],
      "text/plain": [
       "    math_score  writing_score\n",
       "9           38             50\n",
       "10          58             52"
      ]
     },
     "execution_count": 18,
     "metadata": {},
     "output_type": "execute_result"
    }
   ],
   "source": [
    "# Get 10-11th cell on 5th&6th column\n",
    "_10_11_4_5 = student_d.iloc[9:11, 4:6] \n",
    "# remember it starts at 0\n",
    "_10_11_4_5"
   ]
  },
  {
   "cell_type": "code",
   "execution_count": 19,
   "metadata": {},
   "outputs": [
    {
     "data": {
      "text/html": [
       "<div>\n",
       "<style>\n",
       "    .dataframe thead tr:only-child th {\n",
       "        text-align: right;\n",
       "    }\n",
       "\n",
       "    .dataframe thead th {\n",
       "        text-align: left;\n",
       "    }\n",
       "\n",
       "    .dataframe tbody tr th {\n",
       "        vertical-align: top;\n",
       "    }\n",
       "</style>\n",
       "<table border=\"1\" class=\"dataframe\">\n",
       "  <thead>\n",
       "    <tr style=\"text-align: right;\">\n",
       "      <th></th>\n",
       "      <th>gender</th>\n",
       "      <th>parent_education</th>\n",
       "      <th>lunch</th>\n",
       "      <th>preparation_course</th>\n",
       "      <th>math_score</th>\n",
       "      <th>writing_score</th>\n",
       "    </tr>\n",
       "  </thead>\n",
       "  <tbody>\n",
       "    <tr>\n",
       "      <th>0</th>\n",
       "      <td>female</td>\n",
       "      <td>bachelor's degree</td>\n",
       "      <td>NaN</td>\n",
       "      <td>none</td>\n",
       "      <td>72</td>\n",
       "      <td>74</td>\n",
       "    </tr>\n",
       "    <tr>\n",
       "      <th>1</th>\n",
       "      <td>female</td>\n",
       "      <td>some college</td>\n",
       "      <td>False</td>\n",
       "      <td>completed</td>\n",
       "      <td>69</td>\n",
       "      <td>88</td>\n",
       "    </tr>\n",
       "    <tr>\n",
       "      <th>2</th>\n",
       "      <td>female</td>\n",
       "      <td>master's degree</td>\n",
       "      <td>False</td>\n",
       "      <td>none</td>\n",
       "      <td>90</td>\n",
       "      <td>93</td>\n",
       "    </tr>\n",
       "  </tbody>\n",
       "</table>\n",
       "</div>"
      ],
      "text/plain": [
       "   gender   parent_education  lunch preparation_course  math_score  \\\n",
       "0  female  bachelor's degree    NaN               none          72   \n",
       "1  female       some college  False          completed          69   \n",
       "2  female    master's degree  False               none          90   \n",
       "\n",
       "   writing_score  \n",
       "0             74  \n",
       "1             88  \n",
       "2             93  "
      ]
     },
     "execution_count": 19,
     "metadata": {},
     "output_type": "execute_result"
    }
   ],
   "source": [
    "# select Only female students and a writing score over 60\n",
    "only_female = student_d[(student_d['gender'] == 'female') \n",
    "                        & \n",
    "                        (student_d['writing_score'] > 60)]\n",
    "only_female.head(3)"
   ]
  },
  {
   "cell_type": "code",
   "execution_count": 25,
   "metadata": {},
   "outputs": [
    {
     "data": {
      "text/html": [
       "<div>\n",
       "<style>\n",
       "    .dataframe thead tr:only-child th {\n",
       "        text-align: right;\n",
       "    }\n",
       "\n",
       "    .dataframe thead th {\n",
       "        text-align: left;\n",
       "    }\n",
       "\n",
       "    .dataframe tbody tr th {\n",
       "        vertical-align: top;\n",
       "    }\n",
       "</style>\n",
       "<table border=\"1\" class=\"dataframe\">\n",
       "  <thead>\n",
       "    <tr style=\"text-align: right;\">\n",
       "      <th></th>\n",
       "      <th>lunch</th>\n",
       "      <th>preparation_course</th>\n",
       "    </tr>\n",
       "  </thead>\n",
       "  <tbody>\n",
       "    <tr>\n",
       "      <th>0</th>\n",
       "      <td>NaN</td>\n",
       "      <td>none</td>\n",
       "    </tr>\n",
       "    <tr>\n",
       "      <th>1</th>\n",
       "      <td>False</td>\n",
       "      <td>completed</td>\n",
       "    </tr>\n",
       "    <tr>\n",
       "      <th>2</th>\n",
       "      <td>False</td>\n",
       "      <td>none</td>\n",
       "    </tr>\n",
       "  </tbody>\n",
       "</table>\n",
       "</div>"
      ],
      "text/plain": [
       "   lunch preparation_course\n",
       "0    NaN               none\n",
       "1  False          completed\n",
       "2  False               none"
      ]
     },
     "execution_count": 25,
     "metadata": {},
     "output_type": "execute_result"
    }
   ],
   "source": [
    "#Write python code to select only \n",
    "#lunch and preparation_course.\n",
    "lunch_prep = student_d[['lunch','preparation_course']]\n",
    "lunch_prep.head(3)"
   ]
  },
  {
   "cell_type": "code",
   "execution_count": 34,
   "metadata": {},
   "outputs": [],
   "source": [
    "#Add a new column named Active to the students \n",
    "#DataFrame with all 1s to indicate each student's active employment status.\n",
    "student_d['Active'] = 1"
   ]
  },
  {
   "cell_type": "code",
   "execution_count": 35,
   "metadata": {},
   "outputs": [
    {
     "data": {
      "text/html": [
       "<div>\n",
       "<style>\n",
       "    .dataframe thead tr:only-child th {\n",
       "        text-align: right;\n",
       "    }\n",
       "\n",
       "    .dataframe thead th {\n",
       "        text-align: left;\n",
       "    }\n",
       "\n",
       "    .dataframe tbody tr th {\n",
       "        vertical-align: top;\n",
       "    }\n",
       "</style>\n",
       "<table border=\"1\" class=\"dataframe\">\n",
       "  <thead>\n",
       "    <tr style=\"text-align: right;\">\n",
       "      <th></th>\n",
       "      <th>gender</th>\n",
       "      <th>parent_education</th>\n",
       "      <th>lunch</th>\n",
       "      <th>preparation_course</th>\n",
       "      <th>math_score</th>\n",
       "      <th>writing_score</th>\n",
       "      <th>Active</th>\n",
       "      <th>total_score</th>\n",
       "    </tr>\n",
       "  </thead>\n",
       "  <tbody>\n",
       "    <tr>\n",
       "      <th>0</th>\n",
       "      <td>female</td>\n",
       "      <td>bachelor's degree</td>\n",
       "      <td>NaN</td>\n",
       "      <td>none</td>\n",
       "      <td>72</td>\n",
       "      <td>74</td>\n",
       "      <td>1</td>\n",
       "      <td>146</td>\n",
       "    </tr>\n",
       "    <tr>\n",
       "      <th>1</th>\n",
       "      <td>female</td>\n",
       "      <td>some college</td>\n",
       "      <td>False</td>\n",
       "      <td>completed</td>\n",
       "      <td>69</td>\n",
       "      <td>88</td>\n",
       "      <td>1</td>\n",
       "      <td>157</td>\n",
       "    </tr>\n",
       "    <tr>\n",
       "      <th>2</th>\n",
       "      <td>female</td>\n",
       "      <td>master's degree</td>\n",
       "      <td>False</td>\n",
       "      <td>none</td>\n",
       "      <td>90</td>\n",
       "      <td>93</td>\n",
       "      <td>1</td>\n",
       "      <td>183</td>\n",
       "    </tr>\n",
       "  </tbody>\n",
       "</table>\n",
       "</div>"
      ],
      "text/plain": [
       "   gender   parent_education  lunch preparation_course  math_score  \\\n",
       "0  female  bachelor's degree    NaN               none          72   \n",
       "1  female       some college  False          completed          69   \n",
       "2  female    master's degree  False               none          90   \n",
       "\n",
       "   writing_score  Active  total_score  \n",
       "0             74       1          146  \n",
       "1             88       1          157  \n",
       "2             93       1          183  "
      ]
     },
     "execution_count": 35,
     "metadata": {},
     "output_type": "execute_result"
    }
   ],
   "source": [
    "# Add a new column called total score that is the sum of \n",
    "# maths and writing score\n",
    "student_d['total_score'] = student_d['math_score']+student_d['writing_score']\n",
    "student_d.head(3)"
   ]
  },
  {
   "cell_type": "code",
   "execution_count": 58,
   "metadata": {},
   "outputs": [
    {
     "data": {
      "text/html": [
       "<div>\n",
       "<style>\n",
       "    .dataframe thead tr:only-child th {\n",
       "        text-align: right;\n",
       "    }\n",
       "\n",
       "    .dataframe thead th {\n",
       "        text-align: left;\n",
       "    }\n",
       "\n",
       "    .dataframe tbody tr th {\n",
       "        vertical-align: top;\n",
       "    }\n",
       "</style>\n",
       "<table border=\"1\" class=\"dataframe\">\n",
       "  <thead>\n",
       "    <tr style=\"text-align: right;\">\n",
       "      <th></th>\n",
       "      <th>Student_id</th>\n",
       "      <th>gender</th>\n",
       "      <th>parent_education</th>\n",
       "      <th>lunch</th>\n",
       "      <th>preparation_course</th>\n",
       "      <th>math_score</th>\n",
       "      <th>writing_score</th>\n",
       "      <th>Active</th>\n",
       "      <th>total_score</th>\n",
       "    </tr>\n",
       "  </thead>\n",
       "  <tbody>\n",
       "    <tr>\n",
       "      <th>0</th>\n",
       "      <td>0</td>\n",
       "      <td>female</td>\n",
       "      <td>bachelor's degree</td>\n",
       "      <td>NaN</td>\n",
       "      <td>none</td>\n",
       "      <td>72</td>\n",
       "      <td>74</td>\n",
       "      <td>1</td>\n",
       "      <td>146</td>\n",
       "    </tr>\n",
       "    <tr>\n",
       "      <th>1</th>\n",
       "      <td>1</td>\n",
       "      <td>female</td>\n",
       "      <td>some college</td>\n",
       "      <td>False</td>\n",
       "      <td>completed</td>\n",
       "      <td>69</td>\n",
       "      <td>88</td>\n",
       "      <td>1</td>\n",
       "      <td>157</td>\n",
       "    </tr>\n",
       "  </tbody>\n",
       "</table>\n",
       "</div>"
      ],
      "text/plain": [
       "   Student_id  gender   parent_education  lunch preparation_course  \\\n",
       "0           0  female  bachelor's degree    NaN               none   \n",
       "1           1  female       some college  False          completed   \n",
       "\n",
       "   math_score  writing_score  Active  total_score  \n",
       "0          72             74       1          146  \n",
       "1          69             88       1          157  "
      ]
     },
     "execution_count": 58,
     "metadata": {},
     "output_type": "execute_result"
    }
   ],
   "source": [
    "# Add a new column of student id that is just a number\n",
    "import numpy as np\n",
    "student_d.insert(loc=0, column='Student_id', value=np.arange(len(student_d)))\n",
    "student_d.head(2)"
   ]
  },
  {
   "cell_type": "code",
   "execution_count": 53,
   "metadata": {},
   "outputs": [],
   "source": []
  },
  {
   "cell_type": "code",
   "execution_count": 59,
   "metadata": {},
   "outputs": [
    {
     "data": {
      "text/html": [
       "<div>\n",
       "<style>\n",
       "    .dataframe thead tr:only-child th {\n",
       "        text-align: right;\n",
       "    }\n",
       "\n",
       "    .dataframe thead th {\n",
       "        text-align: left;\n",
       "    }\n",
       "\n",
       "    .dataframe tbody tr th {\n",
       "        vertical-align: top;\n",
       "    }\n",
       "</style>\n",
       "<table border=\"1\" class=\"dataframe\">\n",
       "  <thead>\n",
       "    <tr style=\"text-align: right;\">\n",
       "      <th></th>\n",
       "      <th>Student_id</th>\n",
       "      <th>gender</th>\n",
       "      <th>parent_education</th>\n",
       "      <th>lunch</th>\n",
       "      <th>preparation_course</th>\n",
       "      <th>math_score</th>\n",
       "      <th>writing_score</th>\n",
       "      <th>Active</th>\n",
       "      <th>total_score</th>\n",
       "    </tr>\n",
       "  </thead>\n",
       "  <tbody>\n",
       "    <tr>\n",
       "      <th>0</th>\n",
       "      <td>id_0</td>\n",
       "      <td>female</td>\n",
       "      <td>bachelor's degree</td>\n",
       "      <td>NaN</td>\n",
       "      <td>none</td>\n",
       "      <td>72</td>\n",
       "      <td>74</td>\n",
       "      <td>1</td>\n",
       "      <td>146</td>\n",
       "    </tr>\n",
       "    <tr>\n",
       "      <th>1</th>\n",
       "      <td>id_1</td>\n",
       "      <td>female</td>\n",
       "      <td>some college</td>\n",
       "      <td>False</td>\n",
       "      <td>completed</td>\n",
       "      <td>69</td>\n",
       "      <td>88</td>\n",
       "      <td>1</td>\n",
       "      <td>157</td>\n",
       "    </tr>\n",
       "  </tbody>\n",
       "</table>\n",
       "</div>"
      ],
      "text/plain": [
       "  Student_id  gender   parent_education  lunch preparation_course  math_score  \\\n",
       "0       id_0  female  bachelor's degree    NaN               none          72   \n",
       "1       id_1  female       some college  False          completed          69   \n",
       "\n",
       "   writing_score  Active  total_score  \n",
       "0             74       1          146  \n",
       "1             88       1          157  "
      ]
     },
     "execution_count": 59,
     "metadata": {},
     "output_type": "execute_result"
    }
   ],
   "source": [
    "# add prefix 'id' to student id\n",
    "student_d['Student_id'] = 'id_' + student_d['Student_id'].astype(str)\n",
    "student_d.head(2)"
   ]
  },
  {
   "cell_type": "code",
   "execution_count": 60,
   "metadata": {},
   "outputs": [
    {
     "data": {
      "text/html": [
       "<div>\n",
       "<style>\n",
       "    .dataframe thead tr:only-child th {\n",
       "        text-align: right;\n",
       "    }\n",
       "\n",
       "    .dataframe thead th {\n",
       "        text-align: left;\n",
       "    }\n",
       "\n",
       "    .dataframe tbody tr th {\n",
       "        vertical-align: top;\n",
       "    }\n",
       "</style>\n",
       "<table border=\"1\" class=\"dataframe\">\n",
       "  <thead>\n",
       "    <tr style=\"text-align: right;\">\n",
       "      <th></th>\n",
       "      <th>Student_id</th>\n",
       "      <th>gender</th>\n",
       "      <th>parent_education</th>\n",
       "      <th>lunch</th>\n",
       "      <th>preparation_course</th>\n",
       "      <th>math_score</th>\n",
       "      <th>writing_score</th>\n",
       "      <th>Active</th>\n",
       "      <th>total_score</th>\n",
       "    </tr>\n",
       "  </thead>\n",
       "  <tbody>\n",
       "    <tr>\n",
       "      <th>0</th>\n",
       "      <td>0</td>\n",
       "      <td>female</td>\n",
       "      <td>bachelor's degree</td>\n",
       "      <td>NaN</td>\n",
       "      <td>none</td>\n",
       "      <td>72</td>\n",
       "      <td>74</td>\n",
       "      <td>1</td>\n",
       "      <td>146</td>\n",
       "    </tr>\n",
       "    <tr>\n",
       "      <th>1</th>\n",
       "      <td>1</td>\n",
       "      <td>female</td>\n",
       "      <td>some college</td>\n",
       "      <td>False</td>\n",
       "      <td>completed</td>\n",
       "      <td>69</td>\n",
       "      <td>88</td>\n",
       "      <td>1</td>\n",
       "      <td>157</td>\n",
       "    </tr>\n",
       "  </tbody>\n",
       "</table>\n",
       "</div>"
      ],
      "text/plain": [
       "   Student_id  gender   parent_education  lunch preparation_course  \\\n",
       "0           0  female  bachelor's degree    NaN               none   \n",
       "1           1  female       some college  False          completed   \n",
       "\n",
       "   math_score  writing_score  Active  total_score  \n",
       "0          72             74       1          146  \n",
       "1          69             88       1          157  "
      ]
     },
     "execution_count": 60,
     "metadata": {},
     "output_type": "execute_result"
    }
   ],
   "source": [
    "# take this id suffix away and turn it back into integer\n",
    "student_d['Student_id'] = [x[3:] for x in student_d['Student_id']]\n",
    "student_d['Student_id'] = student_d['Student_id'].astype(int)\n",
    "student_d.head(2)"
   ]
  },
  {
   "cell_type": "code",
   "execution_count": 62,
   "metadata": {},
   "outputs": [
    {
     "name": "stderr",
     "output_type": "stream",
     "text": [
      "/usr/local/lib/python3.6/dist-packages/ipykernel_launcher.py:19: SettingWithCopyWarning: \n",
      "A value is trying to be set on a copy of a slice from a DataFrame.\n",
      "Try using .loc[row_indexer,col_indexer] = value instead\n",
      "\n",
      "See the caveats in the documentation: http://pandas.pydata.org/pandas-docs/stable/indexing.html#indexing-view-versus-copy\n"
     ]
    },
    {
     "data": {
      "text/html": [
       "<div>\n",
       "<style>\n",
       "    .dataframe thead tr:only-child th {\n",
       "        text-align: right;\n",
       "    }\n",
       "\n",
       "    .dataframe thead th {\n",
       "        text-align: left;\n",
       "    }\n",
       "\n",
       "    .dataframe tbody tr th {\n",
       "        vertical-align: top;\n",
       "    }\n",
       "</style>\n",
       "<table border=\"1\" class=\"dataframe\">\n",
       "  <thead>\n",
       "    <tr style=\"text-align: right;\">\n",
       "      <th></th>\n",
       "      <th>Student_id</th>\n",
       "      <th>parent_salary</th>\n",
       "    </tr>\n",
       "  </thead>\n",
       "  <tbody>\n",
       "    <tr>\n",
       "      <th>0</th>\n",
       "      <td>0</td>\n",
       "      <td>80K</td>\n",
       "    </tr>\n",
       "    <tr>\n",
       "      <th>1</th>\n",
       "      <td>1</td>\n",
       "      <td>40K</td>\n",
       "    </tr>\n",
       "    <tr>\n",
       "      <th>2</th>\n",
       "      <td>2</td>\n",
       "      <td>100K</td>\n",
       "    </tr>\n",
       "  </tbody>\n",
       "</table>\n",
       "</div>"
      ],
      "text/plain": [
       "   Student_id parent_salary\n",
       "0           0           80K\n",
       "1           1           40K\n",
       "2           2          100K"
      ]
     },
     "execution_count": 62,
     "metadata": {},
     "output_type": "execute_result"
    }
   ],
   "source": [
    "# Make a new table for parent salary (derived from parent education)\n",
    "\n",
    "parent_salary = student_d[['parent_education','Student_id']]\n",
    "\n",
    "salary_dictionary = {'100K':[\"master's degree\"],\n",
    "                     '80K':[\"bachelor's degree\"],\n",
    "                     '60K':[\"associate's degree\"],\n",
    "                     '40K':[\"some college\"],\n",
    "                     '30K':[\"high school\"],\n",
    "                     '20K':[\"some high school\"],\n",
    "                    }\n",
    "\n",
    "def create_salary(s):\n",
    "    for k in salary_dictionary:\n",
    "        for v in salary_dictionary[k]:\n",
    "            if v in s:\n",
    "                return k\n",
    "\n",
    "parent_salary[\"parent_salary\"] = parent_salary[\"parent_education\"].apply(create_salary)\n",
    "\n",
    "parent_salary = parent_salary.drop('parent_education', axis=1)\n",
    "\n",
    "parent_salary.head(3)"
   ]
  },
  {
   "cell_type": "markdown",
   "metadata": {},
   "source": [
    "[contents](#contents)<br>\n",
    "<b>Aggregrate, groupby, maths and joins </b><a id='groupby_maths_joins'></a><br>"
   ]
  },
  {
   "cell_type": "code",
   "execution_count": 41,
   "metadata": {},
   "outputs": [
    {
     "name": "stdout",
     "output_type": "stream",
     "text": [
      "190\n"
     ]
    }
   ],
   "source": [
    "#Largest difference in total maths and writing score.\n",
    "\n",
    "largest_diff = student_d['total_score'].max() - student_d['total_score'].min()\n",
    "print(largest_diff) #190"
   ]
  },
  {
   "cell_type": "markdown",
   "metadata": {},
   "source": [
    "“Find the median score of each test and output the result along with the test name. Order records based on the total test score in descending order. Try to come up with your own precise median calculation."
   ]
  },
  {
   "cell_type": "code",
   "execution_count": 28,
   "metadata": {},
   "outputs": [
    {
     "name": "stdout",
     "output_type": "stream",
     "text": [
      "math_score median 66.0\n",
      "math_score mean 66.089\n",
      "writing_score median 69.0\n",
      "writing_score mean 68.054\n",
      "median of total list 135.0\n",
      "mean of total list 134.143\n",
      "median of total numpy 135.0\n",
      "mean of total numpy 134\n"
     ]
    }
   ],
   "source": [
    "# order records based on total test score in descending order:\n",
    "total_desc = student_d.sort_values(['total_score'], ascending=[False])\n",
    "#or total_desc = student_d.sort_values(['one'], ascending=[0])\n",
    "\n",
    "scores = ['math_score','writing_score']\n",
    "for i in scores:\n",
    "    print(i, 'median',student_d[i].median())\n",
    "    print(i, 'mean',student_d[i].mean())\n",
    "\n",
    "total_desc[['math_score','writing_score']].describe()\n",
    "\n",
    "# For a list\n",
    "from statistics import mean, median\n",
    "total_list = total_desc['total_score'].tolist()\n",
    "print('median of total list', median(total_list))\n",
    "print('mean of total list', mean(total_list))\n",
    "\n",
    "# For numpy\n",
    "total_numpy = total_desc['total_score'].to_numpy()\n",
    "print('median of total numpy', median(total_numpy))\n",
    "print('mean of total numpy', mean(total_numpy))"
   ]
  },
  {
   "cell_type": "markdown",
   "metadata": {},
   "source": [
    "“Find the total number of records that belong to each variety in the dataset. Output the variety along with the corresponding number of records. Order records by the variety in ascending order.” "
   ]
  },
  {
   "cell_type": "code",
   "execution_count": 25,
   "metadata": {},
   "outputs": [
    {
     "data": {
      "text/html": [
       "<div>\n",
       "<style>\n",
       "    .dataframe thead tr:only-child th {\n",
       "        text-align: right;\n",
       "    }\n",
       "\n",
       "    .dataframe thead th {\n",
       "        text-align: left;\n",
       "    }\n",
       "\n",
       "    .dataframe tbody tr th {\n",
       "        vertical-align: top;\n",
       "    }\n",
       "</style>\n",
       "<table border=\"1\" class=\"dataframe\">\n",
       "  <thead>\n",
       "    <tr style=\"text-align: right;\">\n",
       "      <th></th>\n",
       "      <th>lunch</th>\n",
       "      <th>counts</th>\n",
       "    </tr>\n",
       "  </thead>\n",
       "  <tbody>\n",
       "    <tr>\n",
       "      <th>0</th>\n",
       "      <td>False</td>\n",
       "      <td>576</td>\n",
       "    </tr>\n",
       "    <tr>\n",
       "      <th>1</th>\n",
       "      <td>True</td>\n",
       "      <td>324</td>\n",
       "    </tr>\n",
       "  </tbody>\n",
       "</table>\n",
       "</div>"
      ],
      "text/plain": [
       "   lunch  counts\n",
       "0  False     576\n",
       "1   True     324"
      ]
     },
     "execution_count": 25,
     "metadata": {},
     "output_type": "execute_result"
    }
   ],
   "source": [
    "#groupby lunch and count\n",
    "lunch_count = (student_d\n",
    "                .groupby(['lunch'])\n",
    "                .size()\n",
    "                .reset_index(name='counts'))\n",
    "\n",
    "lunch_count"
   ]
  },
  {
   "cell_type": "code",
   "execution_count": 42,
   "metadata": {},
   "outputs": [
    {
     "data": {
      "text/html": [
       "<div>\n",
       "<style>\n",
       "    .dataframe thead tr:only-child th {\n",
       "        text-align: right;\n",
       "    }\n",
       "\n",
       "    .dataframe thead th {\n",
       "        text-align: left;\n",
       "    }\n",
       "\n",
       "    .dataframe tbody tr th {\n",
       "        vertical-align: top;\n",
       "    }\n",
       "</style>\n",
       "<table border=\"1\" class=\"dataframe\">\n",
       "  <thead>\n",
       "    <tr style=\"text-align: right;\">\n",
       "      <th></th>\n",
       "      <th>lunch</th>\n",
       "      <th>preparation_course</th>\n",
       "      <th>counts</th>\n",
       "    </tr>\n",
       "  </thead>\n",
       "  <tbody>\n",
       "    <tr>\n",
       "      <th>0</th>\n",
       "      <td>False</td>\n",
       "      <td>completed</td>\n",
       "      <td>158</td>\n",
       "    </tr>\n",
       "    <tr>\n",
       "      <th>1</th>\n",
       "      <td>False</td>\n",
       "      <td>none</td>\n",
       "      <td>297</td>\n",
       "    </tr>\n",
       "    <tr>\n",
       "      <th>2</th>\n",
       "      <td>True</td>\n",
       "      <td>completed</td>\n",
       "      <td>94</td>\n",
       "    </tr>\n",
       "    <tr>\n",
       "      <th>3</th>\n",
       "      <td>True</td>\n",
       "      <td>none</td>\n",
       "      <td>171</td>\n",
       "    </tr>\n",
       "  </tbody>\n",
       "</table>\n",
       "</div>"
      ],
      "text/plain": [
       "   lunch preparation_course  counts\n",
       "0  False          completed     158\n",
       "1  False               none     297\n",
       "2   True          completed      94\n",
       "3   True               none     171"
      ]
     },
     "execution_count": 42,
     "metadata": {},
     "output_type": "execute_result"
    }
   ],
   "source": [
    "#groupby lunch and preperation course and count\n",
    "lunch_prep = (student_d\n",
    "                .groupby(['lunch', 'preparation_course'])\n",
    "                .size()\n",
    "                .reset_index(name='counts'))\n",
    "\n",
    "lunch_prep"
   ]
  },
  {
   "cell_type": "code",
   "execution_count": 28,
   "metadata": {},
   "outputs": [
    {
     "data": {
      "text/html": [
       "<div>\n",
       "<style>\n",
       "    .dataframe thead tr:only-child th {\n",
       "        text-align: right;\n",
       "    }\n",
       "\n",
       "    .dataframe thead th {\n",
       "        text-align: left;\n",
       "    }\n",
       "\n",
       "    .dataframe tbody tr th {\n",
       "        vertical-align: top;\n",
       "    }\n",
       "</style>\n",
       "<table border=\"1\" class=\"dataframe\">\n",
       "  <thead>\n",
       "    <tr style=\"text-align: right;\">\n",
       "      <th></th>\n",
       "      <th>lunch</th>\n",
       "      <th>counts</th>\n",
       "      <th>mean_total_score</th>\n",
       "      <th>median_total_score</th>\n",
       "    </tr>\n",
       "  </thead>\n",
       "  <tbody>\n",
       "    <tr>\n",
       "      <th>0</th>\n",
       "      <td>False</td>\n",
       "      <td>576</td>\n",
       "      <td>141.184028</td>\n",
       "      <td>142.0</td>\n",
       "    </tr>\n",
       "    <tr>\n",
       "      <th>1</th>\n",
       "      <td>True</td>\n",
       "      <td>324</td>\n",
       "      <td>121.564815</td>\n",
       "      <td>122.0</td>\n",
       "    </tr>\n",
       "  </tbody>\n",
       "</table>\n",
       "</div>"
      ],
      "text/plain": [
       "   lunch  counts  mean_total_score  median_total_score\n",
       "0  False     576        141.184028               142.0\n",
       "1   True     324        121.564815               122.0"
      ]
     },
     "execution_count": 28,
     "metadata": {},
     "output_type": "execute_result"
    }
   ],
   "source": [
    "#groupby lunch and counts, mean and median\n",
    "lunch_counts = pd.DataFrame(student_d.groupby(['lunch'])\n",
    "                            .size().reset_index(name='counts'))\n",
    "lunch_mean = pd.DataFrame(student_d.groupby(['lunch'])\n",
    "                          .mean())[['total_score']].rename(columns={'total_score': 'mean_total_score'})\n",
    "\n",
    "lunch_median = pd.DataFrame(student_d.groupby(['lunch'])\n",
    "                            .median())[['total_score']].rename(columns={'total_score': 'median_total_score'})\n",
    "\n",
    "lunch1 = lunch_counts.join(lunch_mean, how='outer').fillna(0)\n",
    "lunch2 = lunch1.join(lunch_median, how='outer').fillna(0)\n",
    "\n",
    "lunch2"
   ]
  },
  {
   "cell_type": "code",
   "execution_count": 75,
   "metadata": {},
   "outputs": [
    {
     "data": {
      "text/html": [
       "<div>\n",
       "<style scoped>\n",
       "    .dataframe tbody tr th:only-of-type {\n",
       "        vertical-align: middle;\n",
       "    }\n",
       "\n",
       "    .dataframe tbody tr th {\n",
       "        vertical-align: top;\n",
       "    }\n",
       "\n",
       "    .dataframe thead th {\n",
       "        text-align: right;\n",
       "    }\n",
       "</style>\n",
       "<table border=\"1\" class=\"dataframe\">\n",
       "  <thead>\n",
       "    <tr style=\"text-align: right;\">\n",
       "      <th></th>\n",
       "      <th></th>\n",
       "      <th>mean_total_score</th>\n",
       "      <th>median_total_score</th>\n",
       "    </tr>\n",
       "    <tr>\n",
       "      <th>lunch</th>\n",
       "      <th>preparation_course</th>\n",
       "      <th></th>\n",
       "      <th></th>\n",
       "    </tr>\n",
       "  </thead>\n",
       "  <tbody>\n",
       "    <tr>\n",
       "      <th rowspan=\"2\" valign=\"top\">False</th>\n",
       "      <th>completed</th>\n",
       "      <td>150.886076</td>\n",
       "      <td>149.5</td>\n",
       "    </tr>\n",
       "    <tr>\n",
       "      <th>none</th>\n",
       "      <td>136.047138</td>\n",
       "      <td>136.0</td>\n",
       "    </tr>\n",
       "    <tr>\n",
       "      <th rowspan=\"2\" valign=\"top\">True</th>\n",
       "      <th>completed</th>\n",
       "      <td>134.234043</td>\n",
       "      <td>137.0</td>\n",
       "    </tr>\n",
       "    <tr>\n",
       "      <th>none</th>\n",
       "      <td>115.766082</td>\n",
       "      <td>117.0</td>\n",
       "    </tr>\n",
       "  </tbody>\n",
       "</table>\n",
       "</div>"
      ],
      "text/plain": [
       "                          mean_total_score  median_total_score\n",
       "lunch preparation_course                                      \n",
       "False completed                 150.886076               149.5\n",
       "      none                      136.047138               136.0\n",
       "True  completed                 134.234043               137.0\n",
       "      none                      115.766082               117.0"
      ]
     },
     "execution_count": 75,
     "metadata": {},
     "output_type": "execute_result"
    }
   ],
   "source": [
    "#groupby lunch and preparation_course and counts, mean and median\n",
    "lunch_mean = pd.DataFrame(student_d.groupby(['lunch','preparation_course'])\n",
    "                          .mean())[['total_score']].rename(columns={'total_score': 'mean_total_score'})\n",
    "\n",
    "lunch_median = pd.DataFrame(student_d.groupby(['lunch','preparation_course'])\n",
    "                            .median())[['total_score']].rename(columns={'total_score': 'median_total_score'})\n",
    "\n",
    "lunch_mm = lunch_mean.join(lunch_median, how='outer').fillna(0)\n",
    "\n",
    "lunch_mm"
   ]
  },
  {
   "cell_type": "code",
   "execution_count": null,
   "metadata": {},
   "outputs": [],
   "source": []
  },
  {
   "cell_type": "markdown",
   "metadata": {},
   "source": [
    "[contents](#contents)<br>\n",
    "<b> Joining and linking tables</b><a id='joining_linking'></a><br>\n"
   ]
  },
  {
   "cell_type": "code",
   "execution_count": 35,
   "metadata": {},
   "outputs": [
    {
     "data": {
      "text/html": [
       "<div>\n",
       "<style>\n",
       "    .dataframe thead tr:only-child th {\n",
       "        text-align: right;\n",
       "    }\n",
       "\n",
       "    .dataframe thead th {\n",
       "        text-align: left;\n",
       "    }\n",
       "\n",
       "    .dataframe tbody tr th {\n",
       "        vertical-align: top;\n",
       "    }\n",
       "</style>\n",
       "<table border=\"1\" class=\"dataframe\">\n",
       "  <thead>\n",
       "    <tr style=\"text-align: right;\">\n",
       "      <th></th>\n",
       "      <th>parent_education</th>\n",
       "      <th>counts</th>\n",
       "    </tr>\n",
       "  </thead>\n",
       "  <tbody>\n",
       "    <tr>\n",
       "      <th>0</th>\n",
       "      <td>associate's degree</td>\n",
       "      <td>222</td>\n",
       "    </tr>\n",
       "    <tr>\n",
       "      <th>1</th>\n",
       "      <td>bachelor's degree</td>\n",
       "      <td>118</td>\n",
       "    </tr>\n",
       "    <tr>\n",
       "      <th>2</th>\n",
       "      <td>high school</td>\n",
       "      <td>196</td>\n",
       "    </tr>\n",
       "    <tr>\n",
       "      <th>3</th>\n",
       "      <td>master's degree</td>\n",
       "      <td>59</td>\n",
       "    </tr>\n",
       "    <tr>\n",
       "      <th>4</th>\n",
       "      <td>some college</td>\n",
       "      <td>226</td>\n",
       "    </tr>\n",
       "    <tr>\n",
       "      <th>5</th>\n",
       "      <td>some high school</td>\n",
       "      <td>179</td>\n",
       "    </tr>\n",
       "  </tbody>\n",
       "</table>\n",
       "</div>"
      ],
      "text/plain": [
       "     parent_education  counts\n",
       "0  associate's degree     222\n",
       "1   bachelor's degree     118\n",
       "2         high school     196\n",
       "3     master's degree      59\n",
       "4        some college     226\n",
       "5    some high school     179"
      ]
     },
     "execution_count": 35,
     "metadata": {},
     "output_type": "execute_result"
    }
   ],
   "source": [
    "parent_count = (student_d\n",
    "                .groupby(['parent_education'])\n",
    "                .size()\n",
    "                .reset_index(name='counts'))\n",
    "\n",
    "parent_count"
   ]
  },
  {
   "cell_type": "code",
   "execution_count": null,
   "metadata": {},
   "outputs": [],
   "source": []
  },
  {
   "cell_type": "code",
   "execution_count": null,
   "metadata": {},
   "outputs": [],
   "source": []
  },
  {
   "cell_type": "code",
   "execution_count": 63,
   "metadata": {},
   "outputs": [
    {
     "data": {
      "text/html": [
       "<div>\n",
       "<style>\n",
       "    .dataframe thead tr:only-child th {\n",
       "        text-align: right;\n",
       "    }\n",
       "\n",
       "    .dataframe thead th {\n",
       "        text-align: left;\n",
       "    }\n",
       "\n",
       "    .dataframe tbody tr th {\n",
       "        vertical-align: top;\n",
       "    }\n",
       "</style>\n",
       "<table border=\"1\" class=\"dataframe\">\n",
       "  <thead>\n",
       "    <tr style=\"text-align: right;\">\n",
       "      <th></th>\n",
       "      <th>Student_id</th>\n",
       "      <th>Student_id_left</th>\n",
       "      <th>gender</th>\n",
       "      <th>parent_education</th>\n",
       "      <th>lunch</th>\n",
       "      <th>preparation_course</th>\n",
       "      <th>math_score</th>\n",
       "      <th>writing_score</th>\n",
       "      <th>Active</th>\n",
       "      <th>total_score</th>\n",
       "      <th>Student_id_right</th>\n",
       "      <th>parent_salary</th>\n",
       "    </tr>\n",
       "  </thead>\n",
       "  <tbody>\n",
       "    <tr>\n",
       "      <th>0</th>\n",
       "      <td>0</td>\n",
       "      <td>0</td>\n",
       "      <td>female</td>\n",
       "      <td>bachelor's degree</td>\n",
       "      <td>NaN</td>\n",
       "      <td>none</td>\n",
       "      <td>72</td>\n",
       "      <td>74</td>\n",
       "      <td>1</td>\n",
       "      <td>146</td>\n",
       "      <td>0</td>\n",
       "      <td>80K</td>\n",
       "    </tr>\n",
       "    <tr>\n",
       "      <th>1</th>\n",
       "      <td>1</td>\n",
       "      <td>1</td>\n",
       "      <td>female</td>\n",
       "      <td>some college</td>\n",
       "      <td>False</td>\n",
       "      <td>completed</td>\n",
       "      <td>69</td>\n",
       "      <td>88</td>\n",
       "      <td>1</td>\n",
       "      <td>157</td>\n",
       "      <td>1</td>\n",
       "      <td>40K</td>\n",
       "    </tr>\n",
       "    <tr>\n",
       "      <th>2</th>\n",
       "      <td>2</td>\n",
       "      <td>2</td>\n",
       "      <td>female</td>\n",
       "      <td>master's degree</td>\n",
       "      <td>False</td>\n",
       "      <td>none</td>\n",
       "      <td>90</td>\n",
       "      <td>93</td>\n",
       "      <td>1</td>\n",
       "      <td>183</td>\n",
       "      <td>2</td>\n",
       "      <td>100K</td>\n",
       "    </tr>\n",
       "    <tr>\n",
       "      <th>3</th>\n",
       "      <td>3</td>\n",
       "      <td>3</td>\n",
       "      <td>male</td>\n",
       "      <td>associate's degree</td>\n",
       "      <td>True</td>\n",
       "      <td>none</td>\n",
       "      <td>47</td>\n",
       "      <td>44</td>\n",
       "      <td>1</td>\n",
       "      <td>91</td>\n",
       "      <td>3</td>\n",
       "      <td>60K</td>\n",
       "    </tr>\n",
       "  </tbody>\n",
       "</table>\n",
       "</div>"
      ],
      "text/plain": [
       "   Student_id  Student_id_left  gender    parent_education  lunch  \\\n",
       "0           0                0  female   bachelor's degree    NaN   \n",
       "1           1                1  female        some college  False   \n",
       "2           2                2  female     master's degree  False   \n",
       "3           3                3    male  associate's degree   True   \n",
       "\n",
       "  preparation_course  math_score  writing_score  Active  total_score  \\\n",
       "0               none          72             74       1          146   \n",
       "1          completed          69             88       1          157   \n",
       "2               none          90             93       1          183   \n",
       "3               none          47             44       1           91   \n",
       "\n",
       "   Student_id_right parent_salary  \n",
       "0                 0           80K  \n",
       "1                 1           40K  \n",
       "2                 2          100K  \n",
       "3                 3           60K  "
      ]
     },
     "execution_count": 63,
     "metadata": {},
     "output_type": "execute_result"
    }
   ],
   "source": [
    "# join parent salary to student_d\n",
    "student_d_salary = student_d.join(parent_salary, \n",
    "                                on = 'Student_id', \n",
    "                                how = 'outer',\n",
    "                                 lsuffix='_left', rsuffix='_right')\n",
    "\n",
    "student_d_salary.head(4)"
   ]
  },
  {
   "cell_type": "markdown",
   "metadata": {},
   "source": [
    "Find the average total score by parents income and gender"
   ]
  },
  {
   "cell_type": "code",
   "execution_count": 48,
   "metadata": {},
   "outputs": [
    {
     "data": {
      "text/html": [
       "<div>\n",
       "<style>\n",
       "    .dataframe thead tr:only-child th {\n",
       "        text-align: right;\n",
       "    }\n",
       "\n",
       "    .dataframe thead th {\n",
       "        text-align: left;\n",
       "    }\n",
       "\n",
       "    .dataframe tbody tr th {\n",
       "        vertical-align: top;\n",
       "    }\n",
       "</style>\n",
       "<table border=\"1\" class=\"dataframe\">\n",
       "  <thead>\n",
       "    <tr style=\"text-align: right;\">\n",
       "      <th></th>\n",
       "      <th></th>\n",
       "      <th>mean_total_score</th>\n",
       "    </tr>\n",
       "    <tr>\n",
       "      <th>parent_salary</th>\n",
       "      <th>gender</th>\n",
       "      <th></th>\n",
       "    </tr>\n",
       "  </thead>\n",
       "  <tbody>\n",
       "    <tr>\n",
       "      <th rowspan=\"2\" valign=\"top\">100K</th>\n",
       "      <th>female</th>\n",
       "      <td>139.250000</td>\n",
       "    </tr>\n",
       "    <tr>\n",
       "      <th>male</th>\n",
       "      <td>136.169811</td>\n",
       "    </tr>\n",
       "    <tr>\n",
       "      <th rowspan=\"2\" valign=\"top\">30K</th>\n",
       "      <th>female</th>\n",
       "      <td>126.800000</td>\n",
       "    </tr>\n",
       "    <tr>\n",
       "      <th>male</th>\n",
       "      <td>126.010526</td>\n",
       "    </tr>\n",
       "    <tr>\n",
       "      <th rowspan=\"2\" valign=\"top\">40K</th>\n",
       "      <th>female</th>\n",
       "      <td>139.457627</td>\n",
       "    </tr>\n",
       "    <tr>\n",
       "      <th>male</th>\n",
       "      <td>132.157407</td>\n",
       "    </tr>\n",
       "    <tr>\n",
       "      <th rowspan=\"2\" valign=\"top\">60K</th>\n",
       "      <th>female</th>\n",
       "      <td>144.138889</td>\n",
       "    </tr>\n",
       "    <tr>\n",
       "      <th>male</th>\n",
       "      <td>147.434783</td>\n",
       "    </tr>\n",
       "    <tr>\n",
       "      <th rowspan=\"2\" valign=\"top\">80K</th>\n",
       "      <th>female</th>\n",
       "      <td>146.730159</td>\n",
       "    </tr>\n",
       "    <tr>\n",
       "      <th>male</th>\n",
       "      <td>138.236364</td>\n",
       "    </tr>\n",
       "  </tbody>\n",
       "</table>\n",
       "</div>"
      ],
      "text/plain": [
       "                      mean_total_score\n",
       "parent_salary gender                  \n",
       "100K          female        139.250000\n",
       "              male          136.169811\n",
       "30K           female        126.800000\n",
       "              male          126.010526\n",
       "40K           female        139.457627\n",
       "              male          132.157407\n",
       "60K           female        144.138889\n",
       "              male          147.434783\n",
       "80K           female        146.730159\n",
       "              male          138.236364"
      ]
     },
     "execution_count": 48,
     "metadata": {},
     "output_type": "execute_result"
    }
   ],
   "source": [
    "income_gender_mean = (pd.DataFrame(student_d_salary.groupby(['parent_salary','gender'])\n",
    "                                   .mean())[['total_score']]\n",
    "                      .rename(columns={'total_score': 'mean_total_score'}))\n",
    "\n",
    "income_gender_mean"
   ]
  },
  {
   "cell_type": "markdown",
   "metadata": {},
   "source": [
    "Find the number of people taking tests for each gender. Output the gender along with the number of students and the id number in ascending order"
   ]
  },
  {
   "cell_type": "code",
   "execution_count": 84,
   "metadata": {},
   "outputs": [
    {
     "data": {
      "text/html": [
       "<div>\n",
       "<style>\n",
       "    .dataframe thead tr:only-child th {\n",
       "        text-align: right;\n",
       "    }\n",
       "\n",
       "    .dataframe thead th {\n",
       "        text-align: left;\n",
       "    }\n",
       "\n",
       "    .dataframe tbody tr th {\n",
       "        vertical-align: top;\n",
       "    }\n",
       "</style>\n",
       "<table border=\"1\" class=\"dataframe\">\n",
       "  <thead>\n",
       "    <tr style=\"text-align: right;\">\n",
       "      <th></th>\n",
       "      <th>gender</th>\n",
       "      <th>Student_id</th>\n",
       "      <th>counts</th>\n",
       "    </tr>\n",
       "  </thead>\n",
       "  <tbody>\n",
       "    <tr>\n",
       "      <th>0</th>\n",
       "      <td>female</td>\n",
       "      <td>0</td>\n",
       "      <td>1</td>\n",
       "    </tr>\n",
       "    <tr>\n",
       "      <th>1</th>\n",
       "      <td>female</td>\n",
       "      <td>1</td>\n",
       "      <td>1</td>\n",
       "    </tr>\n",
       "    <tr>\n",
       "      <th>2</th>\n",
       "      <td>female</td>\n",
       "      <td>2</td>\n",
       "      <td>1</td>\n",
       "    </tr>\n",
       "  </tbody>\n",
       "</table>\n",
       "</div>"
      ],
      "text/plain": [
       "   gender  Student_id  counts\n",
       "0  female           0       1\n",
       "1  female           1       1\n",
       "2  female           2       1"
      ]
     },
     "execution_count": 84,
     "metadata": {},
     "output_type": "execute_result"
    }
   ],
   "source": [
    "gender_counts = (pd.DataFrame(student_d_salary\n",
    "                .groupby(['gender', 'Student_id'])\n",
    "                .size()\n",
    "                .reset_index(name='counts'))).sort_values('Student_id')\n",
    "\n",
    "gender_counts.head(3)"
   ]
  },
  {
   "cell_type": "markdown",
   "metadata": {},
   "source": [
    "What were the top 10 performing students for females. output the score, gender and parents salary but do not show the same student twice. Sort the results based on the score in ascending order."
   ]
  },
  {
   "cell_type": "code",
   "execution_count": 78,
   "metadata": {},
   "outputs": [
    {
     "data": {
      "text/html": [
       "<div>\n",
       "<style>\n",
       "    .dataframe thead tr:only-child th {\n",
       "        text-align: right;\n",
       "    }\n",
       "\n",
       "    .dataframe thead th {\n",
       "        text-align: left;\n",
       "    }\n",
       "\n",
       "    .dataframe tbody tr th {\n",
       "        vertical-align: top;\n",
       "    }\n",
       "</style>\n",
       "<table border=\"1\" class=\"dataframe\">\n",
       "  <thead>\n",
       "    <tr style=\"text-align: right;\">\n",
       "      <th></th>\n",
       "      <th>gender</th>\n",
       "      <th>total_score</th>\n",
       "      <th>parent_salary</th>\n",
       "      <th>Student_id</th>\n",
       "    </tr>\n",
       "  </thead>\n",
       "  <tbody>\n",
       "    <tr>\n",
       "      <th>458</th>\n",
       "      <td>female</td>\n",
       "      <td>200</td>\n",
       "      <td>80K</td>\n",
       "      <td>458</td>\n",
       "    </tr>\n",
       "    <tr>\n",
       "      <th>962</th>\n",
       "      <td>female</td>\n",
       "      <td>200</td>\n",
       "      <td>100K</td>\n",
       "      <td>962</td>\n",
       "    </tr>\n",
       "    <tr>\n",
       "      <th>114</th>\n",
       "      <td>female</td>\n",
       "      <td>199</td>\n",
       "      <td>80K</td>\n",
       "      <td>114</td>\n",
       "    </tr>\n",
       "    <tr>\n",
       "      <th>179</th>\n",
       "      <td>female</td>\n",
       "      <td>197</td>\n",
       "      <td>30K</td>\n",
       "      <td>179</td>\n",
       "    </tr>\n",
       "    <tr>\n",
       "      <th>451</th>\n",
       "      <td>female</td>\n",
       "      <td>197</td>\n",
       "      <td>40K</td>\n",
       "      <td>451</td>\n",
       "    </tr>\n",
       "    <tr>\n",
       "      <th>712</th>\n",
       "      <td>female</td>\n",
       "      <td>197</td>\n",
       "      <td>40K</td>\n",
       "      <td>712</td>\n",
       "    </tr>\n",
       "    <tr>\n",
       "      <th>165</th>\n",
       "      <td>female</td>\n",
       "      <td>196</td>\n",
       "      <td>80K</td>\n",
       "      <td>165</td>\n",
       "    </tr>\n",
       "    <tr>\n",
       "      <th>717</th>\n",
       "      <td>female</td>\n",
       "      <td>195</td>\n",
       "      <td>100K</td>\n",
       "      <td>717</td>\n",
       "    </tr>\n",
       "    <tr>\n",
       "      <th>685</th>\n",
       "      <td>female</td>\n",
       "      <td>194</td>\n",
       "      <td>60K</td>\n",
       "      <td>685</td>\n",
       "    </tr>\n",
       "    <tr>\n",
       "      <th>855</th>\n",
       "      <td>female</td>\n",
       "      <td>193</td>\n",
       "      <td>80K</td>\n",
       "      <td>855</td>\n",
       "    </tr>\n",
       "  </tbody>\n",
       "</table>\n",
       "</div>"
      ],
      "text/plain": [
       "     gender  total_score parent_salary  Student_id\n",
       "458  female          200           80K         458\n",
       "962  female          200          100K         962\n",
       "114  female          199           80K         114\n",
       "179  female          197           30K         179\n",
       "451  female          197           40K         451\n",
       "712  female          197           40K         712\n",
       "165  female          196           80K         165\n",
       "717  female          195          100K         717\n",
       "685  female          194           60K         685\n",
       "855  female          193           80K         855"
      ]
     },
     "execution_count": 78,
     "metadata": {},
     "output_type": "execute_result"
    }
   ],
   "source": [
    "# alternitive female students and total score between 190 and 200\n",
    "female_190_100 = (student_d_salary[(student_d_salary['gender'] == 'female') \n",
    "                                   & \n",
    "                                   (student_d_salary['total_score'].between(190,200))])\n",
    "\n",
    "female_students = (female_190_100[['gender','total_score','parent_salary','Student_id']]\n",
    "                   .drop_duplicates(subset=['Student_id'])\n",
    "                   .sort_values('total_score', ascending=False)\n",
    "                   .head(10))\n",
    "female_students"
   ]
  },
  {
   "cell_type": "markdown",
   "metadata": {},
   "source": [
    "[contents](#contents)<br>\n",
    "<b> Categorising into Bins </b><a id='categorising_bins'></a><br>"
   ]
  },
  {
   "cell_type": "markdown",
   "metadata": {},
   "source": [
    "categorise the total scores into grade bins"
   ]
  },
  {
   "cell_type": "code",
   "execution_count": 64,
   "metadata": {},
   "outputs": [
    {
     "data": {
      "text/html": [
       "<div>\n",
       "<style>\n",
       "    .dataframe thead tr:only-child th {\n",
       "        text-align: right;\n",
       "    }\n",
       "\n",
       "    .dataframe thead th {\n",
       "        text-align: left;\n",
       "    }\n",
       "\n",
       "    .dataframe tbody tr th {\n",
       "        vertical-align: top;\n",
       "    }\n",
       "</style>\n",
       "<table border=\"1\" class=\"dataframe\">\n",
       "  <thead>\n",
       "    <tr style=\"text-align: right;\">\n",
       "      <th></th>\n",
       "      <th>Student_id</th>\n",
       "      <th>Student_id_left</th>\n",
       "      <th>gender</th>\n",
       "      <th>parent_education</th>\n",
       "      <th>lunch</th>\n",
       "      <th>preparation_course</th>\n",
       "      <th>math_score</th>\n",
       "      <th>writing_score</th>\n",
       "      <th>Active</th>\n",
       "      <th>total_score</th>\n",
       "      <th>Student_id_right</th>\n",
       "      <th>parent_salary</th>\n",
       "      <th>grades</th>\n",
       "    </tr>\n",
       "  </thead>\n",
       "  <tbody>\n",
       "    <tr>\n",
       "      <th>0</th>\n",
       "      <td>0</td>\n",
       "      <td>0</td>\n",
       "      <td>female</td>\n",
       "      <td>bachelor's degree</td>\n",
       "      <td>NaN</td>\n",
       "      <td>none</td>\n",
       "      <td>72</td>\n",
       "      <td>74</td>\n",
       "      <td>1</td>\n",
       "      <td>146</td>\n",
       "      <td>0</td>\n",
       "      <td>80K</td>\n",
       "      <td>C</td>\n",
       "    </tr>\n",
       "    <tr>\n",
       "      <th>1</th>\n",
       "      <td>1</td>\n",
       "      <td>1</td>\n",
       "      <td>female</td>\n",
       "      <td>some college</td>\n",
       "      <td>False</td>\n",
       "      <td>completed</td>\n",
       "      <td>69</td>\n",
       "      <td>88</td>\n",
       "      <td>1</td>\n",
       "      <td>157</td>\n",
       "      <td>1</td>\n",
       "      <td>40K</td>\n",
       "      <td>C</td>\n",
       "    </tr>\n",
       "    <tr>\n",
       "      <th>2</th>\n",
       "      <td>2</td>\n",
       "      <td>2</td>\n",
       "      <td>female</td>\n",
       "      <td>master's degree</td>\n",
       "      <td>False</td>\n",
       "      <td>none</td>\n",
       "      <td>90</td>\n",
       "      <td>93</td>\n",
       "      <td>1</td>\n",
       "      <td>183</td>\n",
       "      <td>2</td>\n",
       "      <td>100K</td>\n",
       "      <td>A</td>\n",
       "    </tr>\n",
       "  </tbody>\n",
       "</table>\n",
       "</div>"
      ],
      "text/plain": [
       "   Student_id  Student_id_left  gender   parent_education  lunch  \\\n",
       "0           0                0  female  bachelor's degree    NaN   \n",
       "1           1                1  female       some college  False   \n",
       "2           2                2  female    master's degree  False   \n",
       "\n",
       "  preparation_course  math_score  writing_score  Active  total_score  \\\n",
       "0               none          72             74       1          146   \n",
       "1          completed          69             88       1          157   \n",
       "2               none          90             93       1          183   \n",
       "\n",
       "   Student_id_right parent_salary grades  \n",
       "0                 0           80K      C  \n",
       "1                 1           40K      C  \n",
       "2                 2          100K      A  "
      ]
     },
     "execution_count": 64,
     "metadata": {},
     "output_type": "execute_result"
    }
   ],
   "source": [
    "score_bins = [0, 80, 100, 120, 140, 160, 180, 200]\n",
    "grade_labels = [\"Fail\",\"F\",\"E\",\"D\",\"C\",\"B\",\"A\"]\n",
    "student_d_salary['grades'] = pd.cut(student_d_salary['total_score'], \n",
    "                                    bins=score_bins, \n",
    "                                    labels=grade_labels)\n",
    "\n",
    "student_d_salary.head(3)"
   ]
  },
  {
   "cell_type": "markdown",
   "metadata": {},
   "source": [
    "Length of string of parent education ignoring special characters (this would be good with say if you had individual business names)"
   ]
  },
  {
   "cell_type": "code",
   "execution_count": 74,
   "metadata": {},
   "outputs": [
    {
     "data": {
      "text/html": [
       "<div>\n",
       "<style>\n",
       "    .dataframe thead tr:only-child th {\n",
       "        text-align: right;\n",
       "    }\n",
       "\n",
       "    .dataframe thead th {\n",
       "        text-align: left;\n",
       "    }\n",
       "\n",
       "    .dataframe tbody tr th {\n",
       "        vertical-align: top;\n",
       "    }\n",
       "</style>\n",
       "<table border=\"1\" class=\"dataframe\">\n",
       "  <thead>\n",
       "    <tr style=\"text-align: right;\">\n",
       "      <th></th>\n",
       "      <th>Student_id</th>\n",
       "      <th>Student_id_left</th>\n",
       "      <th>gender</th>\n",
       "      <th>parent_education</th>\n",
       "      <th>lunch</th>\n",
       "      <th>preparation_course</th>\n",
       "      <th>math_score</th>\n",
       "      <th>writing_score</th>\n",
       "      <th>total_score</th>\n",
       "      <th>Student_id_right</th>\n",
       "      <th>parent_salary</th>\n",
       "      <th>grades</th>\n",
       "      <th>parent_edu_az</th>\n",
       "      <th>parent_edu_len</th>\n",
       "    </tr>\n",
       "  </thead>\n",
       "  <tbody>\n",
       "    <tr>\n",
       "      <th>0</th>\n",
       "      <td>0</td>\n",
       "      <td>0</td>\n",
       "      <td>female</td>\n",
       "      <td>bachelor's degree</td>\n",
       "      <td>NaN</td>\n",
       "      <td>none</td>\n",
       "      <td>72</td>\n",
       "      <td>74</td>\n",
       "      <td>146</td>\n",
       "      <td>0</td>\n",
       "      <td>80K</td>\n",
       "      <td>C</td>\n",
       "      <td>r</td>\n",
       "      <td>1</td>\n",
       "    </tr>\n",
       "    <tr>\n",
       "      <th>1</th>\n",
       "      <td>1</td>\n",
       "      <td>1</td>\n",
       "      <td>female</td>\n",
       "      <td>some college</td>\n",
       "      <td>False</td>\n",
       "      <td>completed</td>\n",
       "      <td>69</td>\n",
       "      <td>88</td>\n",
       "      <td>157</td>\n",
       "      <td>1</td>\n",
       "      <td>40K</td>\n",
       "      <td>C</td>\n",
       "      <td>e</td>\n",
       "      <td>1</td>\n",
       "    </tr>\n",
       "    <tr>\n",
       "      <th>2</th>\n",
       "      <td>2</td>\n",
       "      <td>2</td>\n",
       "      <td>female</td>\n",
       "      <td>master's degree</td>\n",
       "      <td>False</td>\n",
       "      <td>none</td>\n",
       "      <td>90</td>\n",
       "      <td>93</td>\n",
       "      <td>183</td>\n",
       "      <td>2</td>\n",
       "      <td>60K</td>\n",
       "      <td>A</td>\n",
       "      <td>r</td>\n",
       "      <td>1</td>\n",
       "    </tr>\n",
       "    <tr>\n",
       "      <th>3</th>\n",
       "      <td>3</td>\n",
       "      <td>3</td>\n",
       "      <td>male</td>\n",
       "      <td>associate's degree</td>\n",
       "      <td>True</td>\n",
       "      <td>none</td>\n",
       "      <td>47</td>\n",
       "      <td>44</td>\n",
       "      <td>91</td>\n",
       "      <td>3</td>\n",
       "      <td>100K</td>\n",
       "      <td>F</td>\n",
       "      <td>e</td>\n",
       "      <td>1</td>\n",
       "    </tr>\n",
       "  </tbody>\n",
       "</table>\n",
       "</div>"
      ],
      "text/plain": [
       "   Student_id  Student_id_left  gender    parent_education  lunch  \\\n",
       "0           0                0  female   bachelor's degree    NaN   \n",
       "1           1                1  female        some college  False   \n",
       "2           2                2  female     master's degree  False   \n",
       "3           3                3    male  associate's degree   True   \n",
       "\n",
       "  preparation_course  math_score  writing_score  total_score  \\\n",
       "0               none          72             74          146   \n",
       "1          completed          69             88          157   \n",
       "2               none          90             93          183   \n",
       "3               none          47             44           91   \n",
       "\n",
       "   Student_id_right parent_salary grades parent_edu_az  parent_edu_len  \n",
       "0                 0           80K      C             r               1  \n",
       "1                 1           40K      C             e               1  \n",
       "2                 2           60K      A             r               1  \n",
       "3                 3          100K      F             e               1  "
      ]
     },
     "execution_count": 74,
     "metadata": {},
     "output_type": "execute_result"
    }
   ],
   "source": [
    "#regex needs fixing\n",
    "student_d_salary[\"parent_edu_az\"] = student_d_salary[\"parent_education\"].str.extract(r'([a-zA-Z])*')\n",
    "\n",
    "# Now get length\n",
    "student_d_salary[\"parent_edu_len\"] = student_d_salary[\"parent_edu_az\"].str.len()\n",
    "\n",
    "student_d_salary.head(4)"
   ]
  },
  {
   "cell_type": "markdown",
   "metadata": {},
   "source": [
    "“Find the position of the letter 'a' in the worker 'Amitaha'. Use 1-based indexing, e.g. position of the second letter is 2.”"
   ]
  },
  {
   "cell_type": "code",
   "execution_count": 77,
   "metadata": {},
   "outputs": [
    {
     "name": "stdout",
     "output_type": "stream",
     "text": [
      "4\n",
      "4\n",
      "[4, 6]\n"
     ]
    }
   ],
   "source": [
    "String = 'Amitaha'\n",
    "print(String.find('a'))\n",
    "print(String.index('a'))\n",
    "\n",
    "# for every a in string\n",
    "print([pos for pos, char in enumerate(String) if char == \"a\"])"
   ]
  },
  {
   "cell_type": "markdown",
   "metadata": {},
   "source": [
    "Count total score mark and lunch for male and female"
   ]
  },
  {
   "cell_type": "code",
   "execution_count": 81,
   "metadata": {},
   "outputs": [
    {
     "data": {
      "text/html": [
       "<div>\n",
       "<style>\n",
       "    .dataframe thead tr:only-child th {\n",
       "        text-align: right;\n",
       "    }\n",
       "\n",
       "    .dataframe thead th {\n",
       "        text-align: left;\n",
       "    }\n",
       "\n",
       "    .dataframe tbody tr th {\n",
       "        vertical-align: top;\n",
       "    }\n",
       "</style>\n",
       "<table border=\"1\" class=\"dataframe\">\n",
       "  <thead>\n",
       "    <tr style=\"text-align: right;\">\n",
       "      <th></th>\n",
       "      <th></th>\n",
       "      <th>sum totals</th>\n",
       "    </tr>\n",
       "    <tr>\n",
       "      <th>gender</th>\n",
       "      <th>lunch</th>\n",
       "      <th></th>\n",
       "    </tr>\n",
       "  </thead>\n",
       "  <tbody>\n",
       "    <tr>\n",
       "      <th rowspan=\"2\" valign=\"top\">female</th>\n",
       "      <th>False</th>\n",
       "      <td>42584</td>\n",
       "    </tr>\n",
       "    <tr>\n",
       "      <th>True</th>\n",
       "      <td>20720</td>\n",
       "    </tr>\n",
       "    <tr>\n",
       "      <th rowspan=\"2\" valign=\"top\">male</th>\n",
       "      <th>False</th>\n",
       "      <td>38738</td>\n",
       "    </tr>\n",
       "    <tr>\n",
       "      <th>True</th>\n",
       "      <td>18667</td>\n",
       "    </tr>\n",
       "  </tbody>\n",
       "</table>\n",
       "</div>"
      ],
      "text/plain": [
       "              sum totals\n",
       "gender lunch            \n",
       "female False       42584\n",
       "       True        20720\n",
       "male   False       38738\n",
       "       True        18667"
      ]
     },
     "execution_count": 81,
     "metadata": {},
     "output_type": "execute_result"
    }
   ],
   "source": [
    "sums = pd.DataFrame((student_d.groupby(['gender','lunch'])\n",
    "                          .sum())[['total_score']]\n",
    "                          .rename(columns={'total_score': 'sum totals'}))\n",
    "sums"
   ]
  },
  {
   "cell_type": "markdown",
   "metadata": {},
   "source": [
    "[contents](#contents)<br>\n",
    "<b> Graphs </b><a id='Graphs'></a><br>\n"
   ]
  },
  {
   "cell_type": "code",
   "execution_count": 1,
   "metadata": {},
   "outputs": [
    {
     "data": {
      "text/html": [
       "<div>\n",
       "<style>\n",
       "    .dataframe thead tr:only-child th {\n",
       "        text-align: right;\n",
       "    }\n",
       "\n",
       "    .dataframe thead th {\n",
       "        text-align: left;\n",
       "    }\n",
       "\n",
       "    .dataframe tbody tr th {\n",
       "        vertical-align: top;\n",
       "    }\n",
       "</style>\n",
       "<table border=\"1\" class=\"dataframe\">\n",
       "  <thead>\n",
       "    <tr style=\"text-align: right;\">\n",
       "      <th></th>\n",
       "      <th>gender</th>\n",
       "      <th>parent_education</th>\n",
       "      <th>lunch</th>\n",
       "      <th>preparation_course</th>\n",
       "      <th>math_score</th>\n",
       "      <th>writing_score</th>\n",
       "    </tr>\n",
       "  </thead>\n",
       "  <tbody>\n",
       "    <tr>\n",
       "      <th>0</th>\n",
       "      <td>female</td>\n",
       "      <td>bachelor's degree</td>\n",
       "      <td>NaN</td>\n",
       "      <td>none</td>\n",
       "      <td>72</td>\n",
       "      <td>74</td>\n",
       "    </tr>\n",
       "    <tr>\n",
       "      <th>1</th>\n",
       "      <td>female</td>\n",
       "      <td>some college</td>\n",
       "      <td>False</td>\n",
       "      <td>completed</td>\n",
       "      <td>69</td>\n",
       "      <td>88</td>\n",
       "    </tr>\n",
       "    <tr>\n",
       "      <th>2</th>\n",
       "      <td>female</td>\n",
       "      <td>master's degree</td>\n",
       "      <td>False</td>\n",
       "      <td>none</td>\n",
       "      <td>90</td>\n",
       "      <td>93</td>\n",
       "    </tr>\n",
       "  </tbody>\n",
       "</table>\n",
       "</div>"
      ],
      "text/plain": [
       "   gender   parent_education  lunch preparation_course  math_score  \\\n",
       "0  female  bachelor's degree    NaN               none          72   \n",
       "1  female       some college  False          completed          69   \n",
       "2  female    master's degree  False               none          90   \n",
       "\n",
       "   writing_score  \n",
       "0             74  \n",
       "1             88  \n",
       "2             93  "
      ]
     },
     "execution_count": 1,
     "metadata": {},
     "output_type": "execute_result"
    }
   ],
   "source": [
    "import pandas as pd\n",
    "student_d = pd.read_csv(\"student_performance.csv\")\n",
    "student_d.head(3)"
   ]
  },
  {
   "cell_type": "code",
   "execution_count": 33,
   "metadata": {},
   "outputs": [],
   "source": [
    "import numpy as np\n",
    "import pandas as pd\n",
    "import seaborn as sns\n",
    "import matplotlib.pyplot as plt\n",
    "from matplotlib.pyplot import figure"
   ]
  },
  {
   "cell_type": "markdown",
   "metadata": {},
   "source": []
  },
  {
   "cell_type": "code",
   "execution_count": 25,
   "metadata": {},
   "outputs": [
    {
     "data": {
      "image/png": "[encoded data removed]",
      "text/plain": [
       "<matplotlib.figure.Figure at 0x7f19ca7b2da0>"
      ]
     },
     "metadata": {
      "needs_background": "light"
     },
     "output_type": "display_data"
    }
   ],
   "source": [
    "# Box Plot\n",
    "plt.figure(figsize=(3, 2), dpi=40)\n",
    "plt.title('Boxplot of maths and writing score')\n",
    "student_d.boxplot(['math_score','writing_score'])\n",
    "# show plot\n",
    "plt.show()"
   ]
  },
  {
   "cell_type": "code",
   "execution_count": 67,
   "metadata": {},
   "outputs": [
    {
     "data": {
      "text/plain": [
       "<matplotlib.axes._subplots.AxesSubplot at 0x7f05acca4710>"
      ]
     },
     "execution_count": 67,
     "metadata": {},
     "output_type": "execute_result"
    },
    {
     "data": {
      "image/png": "[encoded data removed]",
      "text/plain": [
       "<matplotlib.figure.Figure at 0x7f05aeb5c908>"
      ]
     },
     "metadata": {},
     "output_type": "display_data"
    }
   ],
   "source": [
    "# Changing text sizes in matplotlib\n",
    "plt.figure(figsize=(3, 2), dpi=40)\n",
    "plt.rc('font', size=8)          # controls default text sizes\n",
    "plt.rc('axes', titlesize=8)     # fontsize of the axes title\n",
    "plt.rc('axes', labelsize=10)    # fontsize of the x and y labels\n",
    "plt.rc('xtick', labelsize=10)   # fontsize of the tick labels\n",
    "plt.rc('ytick', labelsize=8)    # fontsize of the tick labels\n",
    "plt.rc('legend', fontsize=8)    # legend fontsize\n",
    "plt.rc('figure', titlesize=12)  # fontsize of the figure title\n",
    "student_d['math_score'].hist()"
   ]
  },
  {
   "cell_type": "code",
   "execution_count": 42,
   "metadata": {},
   "outputs": [
    {
     "data": {
      "text/plain": [
       "(array([   1.,    1.,    0.,    2.,    3.,    7.,    8.,   18.,   36.,\n",
       "          59.,   86.,  102.,  124.,  144.,  114.,  102.,   76.,   59.,\n",
       "          34.,   24.]),\n",
       " array([  0,   5,  10,  15,  20,  25,  30,  35,  40,  45,  50,  55,  60,\n",
       "         65,  70,  75,  80,  85,  90,  95, 100]),\n",
       " <a list of 20 Patch objects>)"
      ]
     },
     "execution_count": 42,
     "metadata": {},
     "output_type": "execute_result"
    },
    {
     "name": "stderr",
     "output_type": "stream",
     "text": [
      "/usr/local/lib/python3.6/dist-packages/matplotlib/font_manager.py:1297: UserWarning: findfont: Font family ['Comic Sans MS'] not found. Falling back to DejaVu Sans\n",
      "  (prop.get_family(), self.defaultFamily[fontext]))\n"
     ]
    },
    {
     "data": {
      "image/png": "[encoded data removed]",
      "text/plain": [
       "<matplotlib.figure.Figure at 0x7f19bb0b3c18>"
      ]
     },
     "metadata": {
      "needs_background": "light"
     },
     "output_type": "display_data"
    }
   ],
   "source": [
    "# histrogram with my defined bins\n",
    "plt.figure(figsize=(3, 2), dpi=40)\n",
    "ax = plt.axes() # change background colour\n",
    "ax.set_facecolor(\"white\") # change background colour\n",
    "plt.title('number of pupils per score', fontsize='10', color='b') # change colout\n",
    "plt.xlabel(\"maths score\", fontsize='10', color = 'black') # change colour\n",
    "plt.ylabel(\"count\", fontsize='10', fontname=\"Comic Sans MS\") # change font\n",
    "plt.hist(student_d['math_score'].tolist(), bins=range(0, 101, 5), color='r') # change chart colour"
   ]
  },
  {
   "cell_type": "code",
   "execution_count": 49,
   "metadata": {},
   "outputs": [
    {
     "data": {
      "image/png": "[encoded data removed]",
      "text/plain": [
       "<matplotlib.figure.Figure at 0x7f05afbab0b8>"
      ]
     },
     "metadata": {
      "needs_background": "light"
     },
     "output_type": "display_data"
    }
   ],
   "source": [
    "student_d['total_score'] = student_d['math_score'] + student_d['writing_score']\n",
    "#scatter\n",
    "plt.figure(figsize=(3, 2), dpi=40)\n",
    "plt.scatter(student_d['math_score'].tolist(),student_d['total_score'].tolist(), marker = \".\", color = 'r')\n",
    "plt.xlabel(\"maths score\")\n",
    "plt.ylabel(\"total score\")\n",
    "plt.show()"
   ]
  },
  {
   "cell_type": "code",
   "execution_count": 23,
   "metadata": {},
   "outputs": [
    {
     "data": {
      "image/png": "[encoded data removed]",
      "text/plain": [
       "<matplotlib.figure.Figure at 0x7f732920d278>"
      ]
     },
     "metadata": {
      "needs_background": "light"
     },
     "output_type": "display_data"
    }
   ],
   "source": [
    "#scatter with two variables\n",
    "plt.figure(figsize=(3, 2), dpi=40)\n",
    "ax = plt.axes()\n",
    "ax.set_facecolor(\"white\")\n",
    "plt.title('maths and writing score per total score', fontsize='10', color='b') # change colour\n",
    "plt.scatter(student_d['math_score'].tolist(),student_d['total_score'].tolist(), \n",
    "            marker = \".\", color = 'r', label='maths score')\n",
    "plt.scatter(student_d['writing_score'].tolist(),student_d['total_score'].tolist(), \n",
    "            marker = \"*\", color = 'b', label='writing score')\n",
    "plt.legend(loc=\"upper left\", borderpad=0.2) # this gives a ledgenge and changes size\n",
    "plt.xlabel(\"maths score\")\n",
    "plt.ylabel(\"total score\")\n",
    "plt.show()"
   ]
  },
  {
   "cell_type": "code",
   "execution_count": 44,
   "metadata": {},
   "outputs": [
    {
     "data": {
      "image/png": "[encoded data removed]",
      "text/plain": [
       "<matplotlib.figure.Figure at 0x7f7328d9a748>"
      ]
     },
     "metadata": {
      "needs_background": "light"
     },
     "output_type": "display_data"
    }
   ],
   "source": [
    "# linegraph 2 variables\n",
    "x = list(range(1,10))\n",
    "y1 = [y*2 for y in x]\n",
    "y2 = [y*y for y in x]\n",
    "y3 = [y**3 for y in x if y<5]\n",
    "\n",
    "plt.figure(figsize=(3, 2), dpi=40)\n",
    "ax = plt.axes()\n",
    "ax.set_facecolor(\"white\")\n",
    "plt.title('maths functions', fontsize='10', color='b') # change colour\n",
    "plt.plot(x,y1,marker = \".\", color = 'r', label='x=y*2')\n",
    "plt.plot(x,y2,marker = \"*\", color = 'b', label='x=y^2')\n",
    "plt.plot(list(range(1,5)),y3,marker = \"^\", color = 'g', label='x=y^3')\n",
    "plt.legend(loc=\"lower right\", borderpad=0.05, bbox_to_anchor=(1.5, 0.5)) \n",
    "# borderpad changes size of legend, bbox_to_anchor changes position and needs experimenting\n",
    "plt.xlabel(\"x\")\n",
    "plt.ylabel(\"y\")\n",
    "plt.show()"
   ]
  },
  {
   "cell_type": "code",
   "execution_count": 37,
   "metadata": {},
   "outputs": [
    {
     "data": {
      "image/png": "[encoded data removed]",
      "text/plain": [
       "<matplotlib.figure.Figure at 0x7f05ae8595c0>"
      ]
     },
     "metadata": {
      "needs_background": "light"
     },
     "output_type": "display_data"
    },
    {
     "data": {
      "text/plain": [
       "<matplotlib.figure.Figure at 0x7f05b0146a58>"
      ]
     },
     "metadata": {},
     "output_type": "display_data"
    }
   ],
   "source": [
    "# bar graph of parent eduction for male and female\n",
    "# you have to groupby and count them into one dataframe\n",
    "female = student_d[(student_d['gender'] == 'female')]\n",
    "male = student_d[(student_d['gender'] == 'male')]\n",
    "\n",
    "female_count = pd.DataFrame(female.groupby('parent_education')['gender'].count().reset_index())\n",
    "female_count = female_count.rename(columns = {'gender':'female_count'})\n",
    "male_count = pd.DataFrame(male.groupby('parent_education')['gender'].count().reset_index())\n",
    "male_count = male_count.rename(columns = {'gender':'male_count'})\n",
    "\n",
    "b=female_count.merge(male_count,on=['parent_education'], how='outer')\n",
    "\n",
    "ax = b.plot.bar()\n",
    "ax = plt.axes()\n",
    "ax.set_facecolor(\"white\")\n",
    "ax.set_xticklabels(b['parent_education'].tolist(), rotation=65)\n",
    "plt.title('education type by gender', fontsize='10', color='black') # change colour\n",
    "plt.legend(loc=\"lower right\", borderpad=0.05, bbox_to_anchor=(1.3, 0.5)) \n",
    "plt.show()"
   ]
  },
  {
   "cell_type": "code",
   "execution_count": 44,
   "metadata": {},
   "outputs": [
    {
     "data": {
      "image/png": "[encoded data removed]",
      "text/plain": [
       "<matplotlib.figure.Figure at 0x7f05afaf5550>"
      ]
     },
     "metadata": {
      "needs_background": "light"
     },
     "output_type": "display_data"
    }
   ],
   "source": [
    "ax = b.plot.barh()\n",
    "ax = plt.axes()\n",
    "ax.set_facecolor(\"white\")\n",
    "ax.set_yticklabels(b['parent_education'].tolist(), rotation=65) # change to y tick labels\n",
    "plt.title('education type by gender', fontsize='10', color='black') # change colour\n",
    "plt.legend(loc=\"lower right\", borderpad=0.05, bbox_to_anchor=(0.8, 0.5)) \n",
    "plt.show()"
   ]
  },
  {
   "cell_type": "code",
   "execution_count": 48,
   "metadata": {},
   "outputs": [
    {
     "data": {
      "image/png": "[encoded data removed]",
      "text/plain": [
       "<matplotlib.figure.Figure at 0x7f05afe43b38>"
      ]
     },
     "metadata": {
      "needs_background": "light"
     },
     "output_type": "display_data"
    }
   ],
   "source": [
    "#population pyrymid, change one to times by -1 and stacked=True in barh()\n",
    "\n",
    "b=female_count.merge(male_count,on=['parent_education'], how='outer')\n",
    "b['male_count'] = b['male_count']*(-1)\n",
    "\n",
    "ax = b.plot.barh(stacked=True) # stacked=true makes it stacked\n",
    "ax = plt.axes()\n",
    "ax.set_facecolor(\"white\")\n",
    "ax.set_yticklabels(b['parent_education'].tolist(), rotation=65) # change to y tick labels\n",
    "plt.title('education type by gender', fontsize='10', color='black') # change colour\n",
    "plt.legend(loc=\"lower right\", borderpad=0.05, bbox_to_anchor=(1, 0.5)) \n",
    "plt.show()"
   ]
  },
  {
   "cell_type": "code",
   "execution_count": 66,
   "metadata": {},
   "outputs": [
    {
     "data": {
      "text/plain": [
       "<matplotlib.axes._subplots.AxesSubplot at 0x7f05aea63518>"
      ]
     },
     "execution_count": 66,
     "metadata": {},
     "output_type": "execute_result"
    },
    {
     "data": {
      "image/png": "[encoded data removed]",
      "text/plain": [
       "<matplotlib.figure.Figure at 0x7f05aeafd438>"
      ]
     },
     "metadata": {},
     "output_type": "display_data"
    }
   ],
   "source": [
    "#heat map correlation plot\n",
    "corr = student_d[['math_score','writing_score','total_score']].corr()\n",
    "plt.figure(figsize=(3, 2))\n",
    "sns.set(font_scale = 1) # makes axis font size bigger\n",
    "sns.heatmap(corr, xticklabels = corr.columns, yticklabels = corr.columns, \n",
    "            annot = True,  fmt='.1f', cmap = sns.diverging_palette(220, 20, as_cmap=True),\n",
    "           annot_kws={\"fontsize\":15}) # annot_kws changes fot size in middle"
   ]
  },
  {
   "cell_type": "code",
   "execution_count": 68,
   "metadata": {},
   "outputs": [
    {
     "data": {
      "text/plain": [
       "<seaborn.axisgrid.PairGrid at 0x7f05accbcc50>"
      ]
     },
     "execution_count": 68,
     "metadata": {},
     "output_type": "execute_result"
    },
    {
     "data": {
      "text/plain": [
       "<matplotlib.figure.Figure at 0x7f05acc4d630>"
      ]
     },
     "metadata": {},
     "output_type": "display_data"
    },
    {
     "data": {
      "image/png": "[encoded data removed]",
      "text/plain": [
       "<matplotlib.figure.Figure at 0x7f05accbcba8>"
      ]
     },
     "metadata": {},
     "output_type": "display_data"
    }
   ],
   "source": [
    "plt.figure(figsize=(2, 1))\n",
    "sns.set(font_scale = 1) # makes axis font size bigger\n",
    "sns.pairplot(student_d[['math_score','writing_score','total_score']])"
   ]
  },
  {
   "cell_type": "code",
   "execution_count": 1,
   "metadata": {},
   "outputs": [
    {
     "data": {
      "text/plain": [
       "'?uoy tuoba woH .nohtyP ni gnimmargorp evol I'"
      ]
     },
     "execution_count": 1,
     "metadata": {},
     "output_type": "execute_result"
    }
   ],
   "source": [
    "# Write a function that reverses the string\n",
    "#sentence = “I love programming in Python. How about you?”\n",
    "\n",
    "def reversed_string(sentence):\n",
    "    return sentence[::-1]\n",
    "\n",
    "# test case \n",
    "sentence = \"I love programming in Python. How about you?\"\n",
    "reversed_string(sentence)"
   ]
  },
  {
   "cell_type": "code",
   "execution_count": 3,
   "metadata": {},
   "outputs": [
    {
     "data": {
      "text/plain": [
       "'?uoy tuoba woH .nohtyP ni gnimmargorp evol I'"
      ]
     },
     "execution_count": 3,
     "metadata": {},
     "output_type": "execute_result"
    }
   ],
   "source": [
    "# Using list comprenhesion\n",
    "sentence = \"I love programming in Python. How about you?\"\n",
    "''.join(sentence[-i] for i in range(1, len(sentence)+1))\n"
   ]
  },
  {
   "cell_type": "code",
   "execution_count": 4,
   "metadata": {},
   "outputs": [
    {
     "data": {
      "text/plain": [
       "2"
      ]
     },
     "execution_count": 4,
     "metadata": {},
     "output_type": "execute_result"
    }
   ],
   "source": [
    "# The Fibonacci numbers, commonly denoted\n",
    "# F(n) form a sequence, called the \n",
    "# Fibonacci sequence, such that each number \n",
    "# is the sum of the two preceding ones, \n",
    "# starting from 0 and 1.\n",
    "# That is,\n",
    "# F(0) = 0, F(1) = 1,\n",
    "# F(n) = F(n -1) + F(n-2), for n > 1.\n",
    "# - Given n, calculate F(n).\n",
    "def fibonacci(n):\n",
    "    if n <=1:\n",
    "        return n\n",
    "    if n==2:\n",
    "        return 2\n",
    "    current = 0\n",
    "    previous1 = 1\n",
    "    previous2 = 1\n",
    "    for i in range(3, n+1):\n",
    "        current = previous1+previous2\n",
    "        previous2 = previous1\n",
    "        previous1 = current\n",
    "    return current\n",
    "\n",
    "# test case\n",
    "fibonacci(n=3)#2 "
   ]
  },
  {
   "cell_type": "code",
   "execution_count": 5,
   "metadata": {},
   "outputs": [
    {
     "data": {
      "text/plain": [
       "2"
      ]
     },
     "execution_count": 5,
     "metadata": {},
     "output_type": "execute_result"
    }
   ],
   "source": [
    "#Solution 2: Recursion\n",
    "def fibonacci(n):\n",
    "    if n <= 1:\n",
    "        return n\n",
    "    return fibonacci(n-1)+fibonacci(n-2)\n",
    "\n",
    "# test case\n",
    "fibonacci(n=3)#2 "
   ]
  },
  {
   "attachments": {
    "c3afa081-8af3-4681-9b39-8481a3bd74cc.png": {
     "image/png": "[encoded data removed]"
    }
   },
   "cell_type": "markdown",
   "metadata": {},
   "source": [
    "![image.png](attachment:c3afa081-8af3-4681-9b39-8481a3bd74cc.png)\n"
   ]
  },
  {
   "cell_type": "code",
   "execution_count": 6,
   "metadata": {},
   "outputs": [
    {
     "data": {
      "text/plain": [
       "True"
      ]
     },
     "execution_count": 6,
     "metadata": {},
     "output_type": "execute_result"
    }
   ],
   "source": [
    "# two for loops: redundant\n",
    "\n",
    "def two_string_equivalent(word1,word2):\n",
    "    new_1 = \"\"  # data type has to be a string\n",
    "    new_2 = \"\"\n",
    "    for i in word1:\n",
    "        new_1+=i\n",
    "    for j in word2:\n",
    "        new_2+=j\n",
    "    return new_1==new_2\n",
    "\n",
    "# test case\n",
    "word1 = [\"abcde\", \"fgh\"]\n",
    "word2 = [\"abc\", \"defgh\"]\n",
    "two_string_equivalent(word1,word2)"
   ]
  },
  {
   "cell_type": "code",
   "execution_count": 7,
   "metadata": {},
   "outputs": [
    {
     "data": {
      "text/plain": [
       "True"
      ]
     },
     "execution_count": 7,
     "metadata": {},
     "output_type": "execute_result"
    }
   ],
   "source": [
    "# Better soloution using join\n",
    "\n",
    "def two_string_equivalent(word1,word2):\n",
    "    return \"\".join(word1) == \"\".join(word2)\n",
    "\n",
    "# test case\n",
    "word1 = [\"abcde\", \"fgh\"]\n",
    "word2 = [\"abc\", \"defgh\"]\n",
    "two_string_equivalent(word1,word2)"
   ]
  },
  {
   "cell_type": "code",
   "execution_count": null,
   "metadata": {},
   "outputs": [],
   "source": []
  },
  {
   "cell_type": "code",
   "execution_count": 11,
   "metadata": {},
   "outputs": [
    {
     "data": {
      "text/plain": [
       "'I kniht uoy era looc '"
      ]
     },
     "execution_count": 11,
     "metadata": {},
     "output_type": "execute_result"
    }
   ],
   "source": [
    "def reverse_words(s):\n",
    "    result = \"\" \n",
    "    new = s.split(\" \")\n",
    "    for word in new:\n",
    "         word = word[::-1]+\" \"\n",
    "         result += word\n",
    "    return result \n",
    "reverse_words(\"I think you are cool\")"
   ]
  },
  {
   "cell_type": "code",
   "execution_count": 12,
   "metadata": {},
   "outputs": [
    {
     "data": {
      "text/plain": [
       "'I kniht uoy era looc'"
      ]
     },
     "execution_count": 12,
     "metadata": {},
     "output_type": "execute_result"
    }
   ],
   "source": [
    "def reverse_words(s):\n",
    "    result = \"\" \n",
    "    new = s.split(\" \")\n",
    "    for word in new: \n",
    "        word = word[::-1]+\" \"\n",
    "        result += word\n",
    "        \n",
    "    return result.rstrip() \n",
    "# rstrip () returns a copy of the \n",
    "# string with trailing characters stripped\n",
    "reverse_words(\"I think you are cool\")"
   ]
  }
 ],
 "metadata": {
  "kernelspec": {
   "display_name": "Python 3",
   "language": "python",
   "name": "python3"
  },
  "language_info": {
   "codemirror_mode": {
    "name": "ipython",
    "version": 3
   },
   "file_extension": ".py",
   "mimetype": "text/x-python",
   "name": "python",
   "nbconvert_exporter": "python",
   "pygments_lexer": "ipython3",
   "version": "3.6.8"
  }
 },
 "nbformat": 4,
 "nbformat_minor": 4
}
